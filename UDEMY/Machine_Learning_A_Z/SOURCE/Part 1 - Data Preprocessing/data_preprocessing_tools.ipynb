{
  "cells": [
    {
      "cell_type": "markdown",
      "metadata": {
        "colab_type": "text",
        "id": "EoRP98MpR-qj"
      },
      "source": [
        "# Importing the libraries"
      ]
    },
    {
      "cell_type": "code",
      "execution_count": 1,
      "metadata": {
        "colab": {},
        "colab_type": "code",
        "id": "N-qiINBQSK2g"
      },
      "outputs": [],
      "source": [
        "# Working with array\n",
        "import numpy as np\n",
        "# Plotting chart, graph\n",
        "import matplotlib.pyplot as plt\n",
        "# Import dataset. Create the matrix of features and the dependent variable vector.\n",
        "# Preprocess dataset\n",
        "import pandas as pd\n",
        "# Process missing data\n",
        "from sklearn.impute import SimpleImputer\n",
        "# One hot encoding\n",
        "from sklearn.compose import ColumnTransformer\n",
        "from sklearn.preprocessing import OneHotEncoder\n",
        "from sklearn.preprocessing import LabelEncoder\n",
        "# Splitting\n",
        "from sklearn.model_selection import train_test_split\n",
        "# Feature Scaling\n",
        "from sklearn.preprocessing import StandardScaler"
      ]
    },
    {
      "cell_type": "markdown",
      "metadata": {
        "colab_type": "text",
        "id": "RopL7tUZSQkT"
      },
      "source": [
        "# Importing the dataset\n",
        "- Create Data Frame\n",
        "- Create Matrix of features & Dependent variable vector\n",
        "    - Matrix of features: Independent variable. The variables containing some informations with which you can predict what you want to predict. The columns with which you're going to predict the dependent variable.\n",
        "    - Dependent variable vector: The last column of dataset."
      ]
    },
    {
      "cell_type": "code",
      "execution_count": 3,
      "metadata": {},
      "outputs": [],
      "source": [
        "# Create Data frame\n",
        "data_set = pd.read_csv('Data.csv')\n",
        "\n",
        "# Matrix of Features, all the columns of the dataset except the last one\n",
        "# iloc: Locate indexes, take the indexes of the column we want to extract from the dataset, we can get all the rows\n",
        "# Select all rows, take all the columns except the last one\n",
        "# ':': Taking every in the range, this case all the rows\n",
        "# ':-1': Take the indexes from 0 to -1 (Excluding the last index)\n",
        "# `value`: Taking the values\n",
        "X = data_set.iloc[:, :-1].values\n",
        "\n",
        "# Dependent variable vector (The last column of the dataset)\n",
        "# `-1`: Get the last column\n",
        "y = data_set.iloc[:, -1].values"
      ]
    },
    {
      "cell_type": "code",
      "execution_count": 4,
      "metadata": {},
      "outputs": [
        {
          "name": "stdout",
          "output_type": "stream",
          "text": [
            "[['France' 44.0 72000.0]\n",
            " ['Spain' 27.0 48000.0]\n",
            " ['Germany' 30.0 54000.0]\n",
            " ['Spain' 38.0 61000.0]\n",
            " ['Germany' 40.0 nan]\n",
            " ['France' 35.0 58000.0]\n",
            " ['Spain' nan 52000.0]\n",
            " ['France' 48.0 79000.0]\n",
            " ['Germany' 50.0 83000.0]\n",
            " ['France' 37.0 67000.0]]\n",
            "-----------------------------------------------------------------\n",
            "['No' 'Yes' 'No' 'No' 'Yes' 'Yes' 'No' 'Yes' 'No' 'Yes']\n"
          ]
        }
      ],
      "source": [
        "print(f'{X}')\n",
        "print('-----------------------------------------------------------------')\n",
        "print(f'{y}')"
      ]
    },
    {
      "cell_type": "markdown",
      "metadata": {
        "colab_type": "text",
        "id": "nhfKXNxlSabC"
      },
      "source": [
        "# Taking care of missing data\n",
        "- Replace the missing value by the average of all values in the column in which the data is missing.\n",
        "- Using instance of SimpleImputer to handle missing data."
      ]
    },
    {
      "cell_type": "code",
      "execution_count": 6,
      "metadata": {},
      "outputs": [],
      "source": [
        "# Create the object\n",
        "# `np.nan`: Empty value\n",
        "imputer = SimpleImputer(missing_values=np.nan, strategy='mean')\n",
        "\n",
        "# Connect the object to the matrix of features\n",
        "# Column of X with NUMERICAL value\n",
        "# Look at all the rows, column indexed 1, 2\n",
        "imputer.fit(X=X[:, 1:3])\n",
        "\n",
        "# Do the replacement of the missing values\n",
        "# Note: The method only returns the columns specified, not all the matrix of features\n",
        "X[:, 1:3] = imputer.transform(X=X[:, 1:3])"
      ]
    },
    {
      "cell_type": "code",
      "execution_count": 7,
      "metadata": {},
      "outputs": [
        {
          "name": "stdout",
          "output_type": "stream",
          "text": [
            "[['France' 44.0 72000.0]\n",
            " ['Spain' 27.0 48000.0]\n",
            " ['Germany' 30.0 54000.0]\n",
            " ['Spain' 38.0 61000.0]\n",
            " ['Germany' 40.0 63777.77777777778]\n",
            " ['France' 35.0 58000.0]\n",
            " ['Spain' 38.77777777777778 52000.0]\n",
            " ['France' 48.0 79000.0]\n",
            " ['Germany' 50.0 83000.0]\n",
            " ['France' 37.0 67000.0]]\n"
          ]
        }
      ],
      "source": [
        "print(X)"
      ]
    },
    {
      "cell_type": "markdown",
      "metadata": {
        "colab_type": "text",
        "id": "CriG6VzVSjcK"
      },
      "source": [
        "# Encoding categorical data (One hot encoding\n",
        "- We must turn (`encode`) the `string` categories into `number`\n",
        "- One hot encoding: Creating Binary vector (Only 0 and 1), avoid numerical order\n",
        "- The more categories, the more columns"
      ]
    },
    {
      "cell_type": "markdown",
      "metadata": {
        "colab_type": "text",
        "id": "AhSpdQWeSsFh"
      },
      "source": [
        "## Encoding the Independent Variable"
      ]
    },
    {
      "cell_type": "code",
      "execution_count": 9,
      "metadata": {},
      "outputs": [],
      "source": [
        "# Create an object of the Column Transformer class\n",
        "# Arguments: Kind of transformation, indexes of the column we want to transform, the columns we want to keep\n",
        "# `passthrough`: Keep the columns that won't be applied transformation\n",
        "column_transformer = ColumnTransformer(transformers=[('encoder', OneHotEncoder(), [0])], remainder='passthrough')\n",
        "\n",
        "# Return the new matrix of features that one hot encoded\n",
        "# We update the current matrix of features\n",
        "# The method doesn't return a numpy array -> Force the output of this method to be numpy array\n",
        "X = np.array(column_transformer.fit_transform(X=X))"
      ]
    },
    {
      "cell_type": "code",
      "execution_count": 10,
      "metadata": {},
      "outputs": [
        {
          "name": "stdout",
          "output_type": "stream",
          "text": [
            "[[0.0 1.0 0.0 0.0 44.0 72000.0]\n",
            " [1.0 0.0 0.0 1.0 27.0 48000.0]\n",
            " [1.0 0.0 1.0 0.0 30.0 54000.0]\n",
            " [1.0 0.0 0.0 1.0 38.0 61000.0]\n",
            " [1.0 0.0 1.0 0.0 40.0 63777.77777777778]\n",
            " [0.0 1.0 0.0 0.0 35.0 58000.0]\n",
            " [1.0 0.0 0.0 1.0 38.77777777777778 52000.0]\n",
            " [0.0 1.0 0.0 0.0 48.0 79000.0]\n",
            " [1.0 0.0 1.0 0.0 50.0 83000.0]\n",
            " [0.0 1.0 0.0 0.0 37.0 67000.0]]\n"
          ]
        }
      ],
      "source": [
        "print(X)"
      ]
    },
    {
      "cell_type": "markdown",
      "metadata": {
        "colab_type": "text",
        "id": "DXh8oVSITIc6"
      },
      "source": [
        "## Encoding the Dependent Variable"
      ]
    },
    {
      "cell_type": "code",
      "execution_count": 13,
      "metadata": {},
      "outputs": [],
      "source": [
        "# Create object\n",
        "label_encoder = LabelEncoder()\n",
        "\n",
        "y = label_encoder.fit_transform(y=y)"
      ]
    },
    {
      "cell_type": "code",
      "execution_count": 14,
      "metadata": {},
      "outputs": [
        {
          "name": "stdout",
          "output_type": "stream",
          "text": [
            "[0 1 0 0 1 1 0 1 0 1]\n"
          ]
        }
      ],
      "source": [
        "print(y)"
      ]
    },
    {
      "cell_type": "markdown",
      "metadata": {
        "colab_type": "text",
        "id": "qb_vcgm3qZKW"
      },
      "source": [
        "# Splitting (random) the dataset into the Training set and Test set\n",
        "- Training set: Train ML model on existing observations. -> More data than test set (80%) -> Give the model more chance to understand and learn the correlations in the dataset.\n",
        "- Test set: Evaluate the performance of the model on new observations (future data).\n",
        "- Four parts:\n",
        "    - X_train, X_test: Matrix of features\n",
        "    - y_train, y_test: Dependent variable\n",
        "- Why? The ML model expecting all of 04 parts as input\n",
        "    - Training: X_train, y_train -> fit method\n",
        "    - Prediction|Inference: X_test, y_test -> predict method"
      ]
    },
    {
      "cell_type": "code",
      "execution_count": 16,
      "metadata": {},
      "outputs": [],
      "source": [
        "X_train, X_test, y_train, y_test = train_test_split(X, y, test_size=0.2, random_state=1)"
      ]
    },
    {
      "cell_type": "code",
      "execution_count": 17,
      "metadata": {},
      "outputs": [
        {
          "name": "stdout",
          "output_type": "stream",
          "text": [
            "[[1.0 0.0 0.0 1.0 38.77777777777778 52000.0]\n",
            " [1.0 0.0 1.0 0.0 40.0 63777.77777777778]\n",
            " [0.0 1.0 0.0 0.0 44.0 72000.0]\n",
            " [1.0 0.0 0.0 1.0 38.0 61000.0]\n",
            " [1.0 0.0 0.0 1.0 27.0 48000.0]\n",
            " [0.0 1.0 0.0 0.0 48.0 79000.0]\n",
            " [1.0 0.0 1.0 0.0 50.0 83000.0]\n",
            " [0.0 1.0 0.0 0.0 35.0 58000.0]]\n",
            "----------------------------------------------\n",
            "[[1.0 0.0 1.0 0.0 30.0 54000.0]\n",
            " [0.0 1.0 0.0 0.0 37.0 67000.0]]\n",
            "----------------------------------------------\n",
            "[0 1 0 0 1 1 0 1]\n",
            "----------------------------------------------\n",
            "[0 1]\n"
          ]
        }
      ],
      "source": [
        "print(X_train)\n",
        "print('----------------------------------------------')\n",
        "print(X_test)\n",
        "print('----------------------------------------------')\n",
        "print(y_train)\n",
        "print('----------------------------------------------')\n",
        "print(y_test)"
      ]
    },
    {
      "cell_type": "markdown",
      "metadata": {
        "colab_type": "text",
        "id": "TpGqbS4TqkIR"
      },
      "source": [
        "# Feature Scaling\n",
        "- Scale all the features to make sure they all take values in the same scale/range.\n",
        "- Prevent one feature to dominate the other, avoid some features to be dominated by other features in such a way that they're not even considered by the ML model.\n",
        "- Get the mean and standard deviation of the feature\n",
        "- Why apply Feature Scaling after Splitting? Test set: A brand new set. Not relate to training set. Prevent infomation leakage on the test set.\n",
        "- Do not apply to Binary-valued variables"
      ]
    },
    {
      "cell_type": "code",
      "execution_count": 18,
      "metadata": {},
      "outputs": [],
      "source": [
        "# Create object of Feature Scaling class\n",
        "scaler = StandardScaler()\n",
        "# `fit`: For each feature of X_train, compute the mean & the standard deviation of the feature\n",
        "# `transform`: Apply Standardisation, transform each of the value of each feature into the result of Standardisation formula.\n",
        "X_train[:, 3:] = scaler.fit_transform(X_train[:, 3:])\n",
        "X_test[:, 3:] = scaler.transform(X_test[:, 3:])"
      ]
    },
    {
      "cell_type": "code",
      "execution_count": 19,
      "metadata": {},
      "outputs": [
        {
          "name": "stdout",
          "output_type": "stream",
          "text": [
            "[[1.0 0.0 0.0 1.2909944487358056 -0.19159184384578545 -1.0781259408412425]\n",
            " [1.0 0.0 1.0 -0.7745966692414834 -0.014117293757057777\n",
            "  -0.07013167641635372]\n",
            " [0.0 1.0 0.0 -0.7745966692414834 0.566708506533324 0.633562432710455]\n",
            " [1.0 0.0 0.0 1.2909944487358056 -0.30453019390224867\n",
            "  -0.30786617274297867]\n",
            " [1.0 0.0 0.0 1.2909944487358056 -1.9018011447007988 -1.420463615551582]\n",
            " [0.0 1.0 0.0 -0.7745966692414834 1.1475343068237058 1.232653363453549]\n",
            " [1.0 0.0 1.0 -0.7745966692414834 1.4379472069688968 1.5749910381638885]\n",
            " [0.0 1.0 0.0 -0.7745966692414834 -0.7401495441200351 -0.5646194287757332]]\n",
            "----------------------------------------------\n",
            "[[1.0 0.0 1.0 -0.7745966692414834 -1.4661817944830124 -0.9069571034860727]\n",
            " [0.0 1.0 0.0 -0.7745966692414834 -0.44973664397484414 0.2056403393225306]]\n"
          ]
        }
      ],
      "source": [
        "print(X_train)\n",
        "print('----------------------------------------------')\n",
        "print(X_test)"
      ]
    },
    {
      "cell_type": "code",
      "execution_count": null,
      "metadata": {},
      "outputs": [],
      "source": []
    }
  ],
  "metadata": {
    "colab": {
      "collapsed_sections": [],
      "name": "data_preprocessing_tools.ipynb",
      "provenance": [],
      "toc_visible": true
    },
    "kernelspec": {
      "display_name": "Python 3",
      "name": "python3"
    },
    "language_info": {
      "codemirror_mode": {
        "name": "ipython",
        "version": 3
      },
      "file_extension": ".py",
      "mimetype": "text/x-python",
      "name": "python",
      "nbconvert_exporter": "python",
      "pygments_lexer": "ipython3",
      "version": "3.9.7"
    }
  },
  "nbformat": 4,
  "nbformat_minor": 0
}

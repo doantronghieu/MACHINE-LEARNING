{
 "cells": [
  {
   "cell_type": "markdown",
   "metadata": {
    "colab_type": "text",
    "id": "l_LulNCC8z96"
   },
   "source": [
    "# Simple Linear Regression"
   ]
  },
  {
   "cell_type": "markdown",
   "metadata": {
    "colab_type": "text",
    "id": "xpXdowrE9DxW"
   },
   "source": [
    "# Importing the libraries"
   ]
  },
  {
   "cell_type": "code",
   "execution_count": 13,
   "metadata": {
    "colab": {},
    "colab_type": "code",
    "id": "N-qiINBQSK2g"
   },
   "outputs": [],
   "source": [
    "# Working with array\n",
    "import numpy as np\n",
    "# Plotting chart, graph\n",
    "import matplotlib.pyplot as plt\n",
    "# Import dataset. Create the matrix of features and the dependent variable vector.\n",
    "# Preprocess dataset\n",
    "import pandas as pd\n",
    "# Process missing data\n",
    "from sklearn.impute import SimpleImputer\n",
    "# One hot encoding\n",
    "from sklearn.compose import ColumnTransformer\n",
    "from sklearn.preprocessing import OneHotEncoder\n",
    "from sklearn.preprocessing import LabelEncoder\n",
    "# Splitting\n",
    "from sklearn.model_selection import train_test_split\n",
    "# Feature Scaling\n",
    "from sklearn.preprocessing import StandardScaler"
   ]
  },
  {
   "cell_type": "markdown",
   "metadata": {
    "colab_type": "text",
    "id": "RopL7tUZSQkT"
   },
   "source": [
    "# Importing the dataset\n",
    "- Create Data Frame\n",
    "- Create Matrix of features & Dependent variable vector\n",
    "    - Matrix of features: Independent variable. The variables containing some informations with which you can predict what you want to predict. The columns with which you're going to predict the dependent variable.\n",
    "    - Dependent variable vector: The last column of dataset."
   ]
  },
  {
   "cell_type": "code",
   "execution_count": 14,
   "metadata": {},
   "outputs": [],
   "source": [
    "# Create Data frame\n",
    "data_set = pd.read_csv('Salary_Data.csv')\n",
    "\n",
    "# Matrix of Features, all the columns of the dataset except the last one\n",
    "# iloc: Locate indexes, take the indexes of the column we want to extract from the dataset, we can get all the rows\n",
    "# Select all rows, take all the columns except the last one\n",
    "# ':': Taking every in the range, this case all the rows\n",
    "# ':-1': Take the indexes from 0 to -1 (Excluding the last index)\n",
    "# `value`: Taking the values\n",
    "X = data_set.iloc[:, :-1].values\n",
    "\n",
    "# Dependent variable vector (The last column of the dataset)\n",
    "# `-1`: Get the last column\n",
    "y = data_set.iloc[:, -1].values"
   ]
  },
  {
   "cell_type": "code",
   "execution_count": 15,
   "metadata": {},
   "outputs": [
    {
     "name": "stdout",
     "output_type": "stream",
     "text": [
      "[[ 1.1]\n",
      " [ 1.3]\n",
      " [ 1.5]\n",
      " [ 2. ]\n",
      " [ 2.2]\n",
      " [ 2.9]\n",
      " [ 3. ]\n",
      " [ 3.2]\n",
      " [ 3.2]\n",
      " [ 3.7]\n",
      " [ 3.9]\n",
      " [ 4. ]\n",
      " [ 4. ]\n",
      " [ 4.1]\n",
      " [ 4.5]\n",
      " [ 4.9]\n",
      " [ 5.1]\n",
      " [ 5.3]\n",
      " [ 5.9]\n",
      " [ 6. ]\n",
      " [ 6.8]\n",
      " [ 7.1]\n",
      " [ 7.9]\n",
      " [ 8.2]\n",
      " [ 8.7]\n",
      " [ 9. ]\n",
      " [ 9.5]\n",
      " [ 9.6]\n",
      " [10.3]\n",
      " [10.5]]\n",
      "-----------------------------------------------------------------\n",
      "[ 39343.  46205.  37731.  43525.  39891.  56642.  60150.  54445.  64445.\n",
      "  57189.  63218.  55794.  56957.  57081.  61111.  67938.  66029.  83088.\n",
      "  81363.  93940.  91738.  98273. 101302. 113812. 109431. 105582. 116969.\n",
      " 112635. 122391. 121872.]\n"
     ]
    }
   ],
   "source": [
    "print(f'{X}')\n",
    "print('-----------------------------------------------------------------')\n",
    "print(f'{y}')"
   ]
  },
  {
   "cell_type": "markdown",
   "metadata": {
    "colab_type": "text",
    "id": "qb_vcgm3qZKW"
   },
   "source": [
    "# Splitting (random) the dataset into the Training set and Test set\n",
    "- Training set: Train ML model on existing observations. -> More data than test set (80%) -> Give the model more chance to understand and learn the correlations in the dataset.\n",
    "- Test set: Evaluate the performance of the model on new observations (future data).\n",
    "- Four parts:\n",
    "    - X_train, X_test: Matrix of features\n",
    "    - y_train, y_test: Dependent variable\n",
    "- Why? The ML model expecting all of 04 parts as input\n",
    "    - Training: X_train, y_train -> fit method\n",
    "    - Prediction|Inference: X_test, y_test -> predict method"
   ]
  },
  {
   "cell_type": "code",
   "execution_count": 16,
   "metadata": {},
   "outputs": [],
   "source": [
    "X_train, X_test, y_train, y_test = train_test_split(X, y, test_size=0.2, random_state=1)"
   ]
  },
  {
   "cell_type": "code",
   "execution_count": 17,
   "metadata": {},
   "outputs": [
    {
     "name": "stdout",
     "output_type": "stream",
     "text": [
      "X_train\n",
      "[[ 9.5]\n",
      " [ 2. ]\n",
      " [ 8.7]\n",
      " [ 7.9]\n",
      " [ 8.2]\n",
      " [ 2.2]\n",
      " [ 1.5]\n",
      " [ 9. ]\n",
      " [ 3. ]\n",
      " [ 5.9]\n",
      " [ 4.1]\n",
      " [ 3.2]\n",
      " [ 9.6]\n",
      " [ 1.3]\n",
      " [ 5.1]\n",
      " [ 1.1]\n",
      " [ 4.9]\n",
      " [10.5]\n",
      " [10.3]\n",
      " [ 3.7]\n",
      " [ 3.2]\n",
      " [ 4. ]\n",
      " [ 4. ]\n",
      " [ 2.9]]\n",
      "----------------------------------------------\n",
      "X_test\n",
      "[[5.3]\n",
      " [7.1]\n",
      " [3.9]\n",
      " [6. ]\n",
      " [4.5]\n",
      " [6.8]]\n",
      "----------------------------------------------\n",
      "y_train\n",
      "[116969.  43525. 109431. 101302. 113812.  39891.  37731. 105582.  60150.\n",
      "  81363.  57081.  54445. 112635.  46205.  66029.  39343.  67938. 121872.\n",
      " 122391.  57189.  64445.  56957.  55794.  56642.]\n",
      "----------------------------------------------\n",
      "y_test\n",
      "[83088. 98273. 63218. 93940. 61111. 91738.]\n"
     ]
    }
   ],
   "source": [
    "print(f'X_train\\n{X_train}')\n",
    "print('----------------------------------------------')\n",
    "print(f'X_test\\n{X_test}')\n",
    "print('----------------------------------------------')\n",
    "print(f'y_train\\n{y_train}')\n",
    "print('----------------------------------------------')\n",
    "print(f'y_test\\n{y_test}')"
   ]
  },
  {
   "cell_type": "markdown",
   "metadata": {
    "colab_type": "text",
    "id": "ZijQwFMQ9itx"
   },
   "source": [
    "# Training the Simple Linear Regression model on the Training set"
   ]
  },
  {
   "cell_type": "code",
   "execution_count": 18,
   "metadata": {},
   "outputs": [
    {
     "name": "stdout",
     "output_type": "stream",
     "text": [
      "Training ...\n",
      "Train successfully!\n"
     ]
    }
   ],
   "source": [
    "from sklearn.linear_model import LinearRegression\n",
    "\n",
    "# Create instance of LinearRegression class\n",
    "regressor = LinearRegression()\n",
    "\n",
    "# Train the model on the training set, we have to connect the model to the training set -> `fit` function\n",
    "print('Training ...')\n",
    "regressor.fit(X=X_train, y=y_train)\n",
    "\n",
    "print('Train successfully!')"
   ]
  },
  {
   "cell_type": "markdown",
   "metadata": {
    "colab_type": "text",
    "id": "wa2T1Lq89o5H"
   },
   "source": [
    "# Predicting the Test set results\n",
    "- Input the test feature -> Output result -> Compare the predicted values to the `ground-truth` or real value (y_test)\n",
    "- Return a vector of predictions"
   ]
  },
  {
   "cell_type": "code",
   "execution_count": 19,
   "metadata": {},
   "outputs": [],
   "source": [
    "y_predicted = regressor.predict(X=X_test)"
   ]
  },
  {
   "cell_type": "markdown",
   "metadata": {
    "colab_type": "text",
    "id": "-zSoMZ-P9v8t"
   },
   "source": [
    "# Visualising the Training set results\n",
    "- Plot the `real y` compared to the `predicted y`\n",
    "- 2D Plot: X Axis: Feature, Y Axis: Result\n",
    "- `scatter`: Put the points into the 2D plot"
   ]
  },
  {
   "cell_type": "code",
   "execution_count": 20,
   "metadata": {},
   "outputs": [
    {
     "data": {
      "image/png": "[encoded data removed]",
      "text/plain": [
       "<Figure size 432x288 with 1 Axes>"
      ]
     },
     "metadata": {
      "needs_background": "light"
     },
     "output_type": "display_data"
    }
   ],
   "source": [
    "# Plot training set (Real value)\n",
    "plt.scatter(x=X_train, y=y_train, color='red')\n",
    " \n",
    "# Plot regression line (Predicted value)\n",
    "y_predicted_X_train = regressor.predict(X=X_train)\n",
    "plt.plot(X_train, y_predicted_X_train, color='blue')\n",
    "\n",
    "plt.title('Output vs Feature (Training set)')\n",
    "plt.xlabel('Feature')\n",
    "plt.ylabel('Result')\n",
    "plt.show()"
   ]
  },
  {
   "cell_type": "markdown",
   "metadata": {
    "colab_type": "text",
    "id": "EUX1Vhsv97ZT"
   },
   "source": [
    "# Visualising the Test set results"
   ]
  },
  {
   "cell_type": "code",
   "execution_count": 21,
   "metadata": {},
   "outputs": [
    {
     "data": {
      "image/png": "[encoded data removed]",
      "text/plain": [
       "<Figure size 432x288 with 1 Axes>"
      ]
     },
     "metadata": {
      "needs_background": "light"
     },
     "output_type": "display_data"
    }
   ],
   "source": [
    "# Plot training set (Real value)\n",
    "plt.scatter(x=X_test, y=y_test, color='red')\n",
    "\n",
    "# Plot regression line (Predicted value)\n",
    "plt.plot(X_train, y_predicted_X_train, color='blue')\n",
    "\n",
    "plt.title('Output vs Feature (Test set)')\n",
    "plt.xlabel('Feature')\n",
    "plt.ylabel('Result')\n",
    "plt.show()"
   ]
  }
 ],
 "metadata": {
  "colab": {
   "authorship_tag": "ABX9TyP1VVwrQU8S68bmX5lftYWC",
   "name": "Simple Linear Regression",
   "provenance": [],
   "toc_visible": true
  },
  "kernelspec": {
   "display_name": "Python 3",
   "language": "python",
   "name": "python3"
  },
  "language_info": {
   "codemirror_mode": {
    "name": "ipython",
    "version": 3
   },
   "file_extension": ".py",
   "mimetype": "text/x-python",
   "name": "python",
   "nbconvert_exporter": "python",
   "pygments_lexer": "ipython3",
   "version": "3.9.7"
  }
 },
 "nbformat": 4,
 "nbformat_minor": 1
}

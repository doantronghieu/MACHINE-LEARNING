{
 "cells": [
  {
   "cell_type": "code",
   "execution_count": null,
   "metadata": {},
   "outputs": [],
   "source": [
    "import numpy as np\n",
    "import numpy.random as npr\n",
    "import pandas as pd\n",
    "import matplotlib.pyplot as plt\n",
    "from matplotlib.image import imread\n",
    "import seaborn as sns\n",
    "sns.set()"
   ]
  },
  {
   "cell_type": "markdown",
   "metadata": {},
   "source": [
    "# NUMPY DATATYPES AND ATTRIBUTES"
   ]
  },
  {
   "cell_type": "code",
   "execution_count": null,
   "metadata": {},
   "outputs": [],
   "source": [
    "a1 = np.array([1, 2, 3])\n",
    "print(a1, '\\n')\n",
    "print(type(a1), '\\n')"
   ]
  },
  {
   "cell_type": "code",
   "execution_count": null,
   "metadata": {},
   "outputs": [],
   "source": [
    "a2 = np.array([ [1, 2.0, 3.3],\n",
    "                [4, 5, 6.5] ])\n",
    "\n",
    "a3 = np.array(  [   [   [1, 2, 3],\n",
    "                        [4, 5, 6],\n",
    "                        [7, 8, 9]       ],\n",
    "                    [   [10, 11, 12],\n",
    "                        [13, 14, 15],\n",
    "                        [16, 17, 18]    ]   ])\n",
    "\n",
    "print(a2, '\\n')\n",
    "print(type(a2), '\\n')\n",
    "print(a3, '\\n')\n",
    "print(type(a3), '\\n')"
   ]
  },
  {
   "cell_type": "code",
   "execution_count": null,
   "metadata": {},
   "outputs": [],
   "source": [
    "print(f'{str(a1.shape):<10}, {str(a1.ndim):<1}, {str(a1.dtype):<7}, {str(a1.size):<2}, {type(a1)}')\n",
    "print(f'{str(a2.shape):<10}, {str(a2.ndim):<1}, {str(a2.dtype):<7}, {str(a2.size):<2}, {type(a2)}')\n",
    "print(f'{str(a3.shape):<10}, {str(a3.ndim):<1}, {str(a3.dtype):<7}, {str(a3.size):<2}, {type(a3)}')"
   ]
  },
  {
   "cell_type": "code",
   "execution_count": null,
   "metadata": {},
   "outputs": [],
   "source": [
    "df = pd.DataFrame(a2)\n",
    "df"
   ]
  },
  {
   "cell_type": "markdown",
   "metadata": {},
   "source": [
    "# CREATING NUMPY ARRAYS"
   ]
  },
  {
   "cell_type": "code",
   "execution_count": null,
   "metadata": {},
   "outputs": [],
   "source": [
    "sample_array = np.array([1, 2, 3])\n",
    "print(sample_array, '\\n')\n",
    "print(sample_array.dtype, '\\n')"
   ]
  },
  {
   "cell_type": "code",
   "execution_count": null,
   "metadata": {},
   "outputs": [],
   "source": [
    "ones = np.ones((2, 3))\n",
    "print(ones, '\\n')\n",
    "print(ones.dtype, '\\n')\n",
    "print(type(ones), '\\n')"
   ]
  },
  {
   "cell_type": "code",
   "execution_count": null,
   "metadata": {},
   "outputs": [],
   "source": [
    "zeros = np.zeros((2, 3))\n",
    "print(zeros, '\\n')\n",
    "print(zeros.dtype, '\\n')\n",
    "print(type(zeros), '\\n')"
   ]
  },
  {
   "cell_type": "code",
   "execution_count": null,
   "metadata": {},
   "outputs": [],
   "source": [
    "range_array = np.arange(0, 10, 2)\n",
    "print(range_array, '\\n')\n",
    "print(range_array.dtype, '\\n')\n",
    "print(type(range_array), '\\n')"
   ]
  },
  {
   "cell_type": "code",
   "execution_count": null,
   "metadata": {},
   "outputs": [],
   "source": [
    "random_array = np.random.randint(0, 10, size=(3, 5))\n",
    "print(random_array, '\\n')\n",
    "print(random_array.dtype, '\\n')\n",
    "print(type(random_array), '\\n')\n",
    "print(random_array.size)"
   ]
  },
  {
   "cell_type": "code",
   "execution_count": null,
   "metadata": {},
   "outputs": [],
   "source": [
    "random_array_2 = np.random.random(size=(5, 3))\n",
    "print(random_array_2, '\\n')\n",
    "print(random_array_2.shape, '\\n')"
   ]
  },
  {
   "cell_type": "code",
   "execution_count": null,
   "metadata": {},
   "outputs": [],
   "source": [
    "random_array_3 = np.random.rand(5, 3)\n",
    "random_array_3"
   ]
  },
  {
   "cell_type": "markdown",
   "metadata": {},
   "source": [
    "# NUMPY RANDOM SEED"
   ]
  },
  {
   "cell_type": "code",
   "execution_count": null,
   "metadata": {},
   "outputs": [],
   "source": [
    "random_array_4 = npr.randint(10, size=(5, 3))\n",
    "print(random_array_4)"
   ]
  },
  {
   "cell_type": "code",
   "execution_count": null,
   "metadata": {},
   "outputs": [],
   "source": [
    "npr.seed(0)\n",
    "random_array_4 = npr.randint(10, size=(5, 3))\n",
    "print(random_array_4)"
   ]
  },
  {
   "cell_type": "code",
   "execution_count": null,
   "metadata": {},
   "outputs": [],
   "source": [
    "random_array_5 = npr.random(size=(5, 3))\n",
    "print(random_array_5)"
   ]
  },
  {
   "cell_type": "code",
   "execution_count": null,
   "metadata": {},
   "outputs": [],
   "source": [
    "npr.seed(7)\n",
    "random_array_5 = npr.random(size=(5, 3))\n",
    "print(random_array_5)"
   ]
  },
  {
   "cell_type": "markdown",
   "metadata": {},
   "source": [
    "# VIEWING ARRAYS AND MATRICES"
   ]
  },
  {
   "cell_type": "code",
   "execution_count": null,
   "metadata": {},
   "outputs": [],
   "source": [
    "print(random_array_4, '\\n')\n",
    "print(np.unique(random_array_4))"
   ]
  },
  {
   "cell_type": "code",
   "execution_count": null,
   "metadata": {},
   "outputs": [],
   "source": [
    "print(a1, '\\n')\n",
    "print(a2, '\\n')\n",
    "print(a3, '\\n')"
   ]
  },
  {
   "cell_type": "code",
   "execution_count": null,
   "metadata": {},
   "outputs": [],
   "source": [
    "print(a1.shape, '\\n')\n",
    "print(a2.shape, '\\n')\n",
    "print(a3.shape, '\\n')"
   ]
  },
  {
   "cell_type": "code",
   "execution_count": null,
   "metadata": {},
   "outputs": [],
   "source": [
    "print(a1[0], '\\n')\n",
    "print(a2[0], '\\n')\n",
    "print(a3[0], '\\n')"
   ]
  },
  {
   "cell_type": "code",
   "execution_count": null,
   "metadata": {},
   "outputs": [],
   "source": [
    "print(a3, '---\\n')\n",
    "print(a3[:2, :2, :2])"
   ]
  },
  {
   "cell_type": "code",
   "execution_count": null,
   "metadata": {},
   "outputs": [],
   "source": [
    "a4 = npr.randint(10, size=(2, 3, 4, 5))\n",
    "a4"
   ]
  },
  {
   "cell_type": "code",
   "execution_count": null,
   "metadata": {},
   "outputs": [],
   "source": [
    "print(f'{a4.shape}, {a4.ndim}')"
   ]
  },
  {
   "cell_type": "code",
   "execution_count": null,
   "metadata": {},
   "outputs": [],
   "source": [
    "a4[:, :, :, :4]"
   ]
  },
  {
   "cell_type": "markdown",
   "metadata": {},
   "source": [
    "# MANIPULATING ARRAYS"
   ]
  },
  {
   "cell_type": "markdown",
   "metadata": {},
   "source": [
    "## ARITHMETIC"
   ]
  },
  {
   "cell_type": "code",
   "execution_count": null,
   "metadata": {},
   "outputs": [],
   "source": [
    "print(a1, '\\n')\n",
    "ones = np.ones(3)\n",
    "print(ones, '\\n')\n",
    "print(a2)"
   ]
  },
  {
   "cell_type": "code",
   "execution_count": null,
   "metadata": {},
   "outputs": [],
   "source": [
    "print(a1 + ones)\n",
    "print(a1 - ones)\n",
    "print(a1 * ones)"
   ]
  },
  {
   "cell_type": "code",
   "execution_count": null,
   "metadata": {},
   "outputs": [],
   "source": [
    "print(a1 * a2)"
   ]
  },
  {
   "cell_type": "code",
   "execution_count": null,
   "metadata": {},
   "outputs": [],
   "source": [
    "a1 / ones"
   ]
  },
  {
   "cell_type": "code",
   "execution_count": null,
   "metadata": {},
   "outputs": [],
   "source": [
    "print(a2, '\\n')\n",
    "print(a2 / a1, '\\n')\n",
    "print(a2 // a1, '\\n')\n",
    "print(a2 ** 2)"
   ]
  },
  {
   "cell_type": "markdown",
   "metadata": {},
   "source": [
    "# AGGREGATION"
   ]
  },
  {
   "cell_type": "code",
   "execution_count": null,
   "metadata": {},
   "outputs": [],
   "source": [
    "print(a1, '\\n')\n",
    "print(type(a1), '\\n')\n",
    "print(np.sum(a1))"
   ]
  },
  {
   "cell_type": "code",
   "execution_count": null,
   "metadata": {},
   "outputs": [],
   "source": [
    "massive_array = npr.random(100000)"
   ]
  },
  {
   "cell_type": "code",
   "execution_count": null,
   "metadata": {},
   "outputs": [],
   "source": [
    "%timeit sum(massive_array)\n",
    "%timeit np.sum(massive_array)"
   ]
  },
  {
   "cell_type": "code",
   "execution_count": null,
   "metadata": {},
   "outputs": [],
   "source": [
    "print(a2, '\\n')\n",
    "print(np.mean(a2), '\\n')\n",
    "print(np.max(a2), np.min(a2), np.std(a2), np.var(a2), '\\n')"
   ]
  },
  {
   "cell_type": "markdown",
   "metadata": {},
   "source": [
    "# STANDARD DEVIATION AND VARIANCE"
   ]
  },
  {
   "cell_type": "code",
   "execution_count": null,
   "metadata": {},
   "outputs": [],
   "source": [
    "high_var_array = np.array([1, 100, 200, 300, 4000, 5000])\n",
    "low_var_array  = np.array([2, 4, 6, 8, 10])\n",
    "\n",
    "print(f'{np.var(high_var_array)} - {np.var(low_var_array)}')\n",
    "print(f'{np.std(high_var_array)} - {np.std(low_var_array)}')\n",
    "print(f'{np.mean(high_var_array)} - {np.mean(low_var_array)}')"
   ]
  },
  {
   "cell_type": "code",
   "execution_count": null,
   "metadata": {},
   "outputs": [],
   "source": [
    "plt.figure(figsize=(22, 5))\n",
    "plt.subplot(1, 2, 1)\n",
    "plt.hist(high_var_array)\n",
    "plt.subplot(1, 2, 2)\n",
    "plt.hist(low_var_array)\n",
    "plt.show();"
   ]
  },
  {
   "cell_type": "markdown",
   "metadata": {},
   "source": [
    "# RESHAPE AND TRANSPOSE"
   ]
  },
  {
   "cell_type": "code",
   "execution_count": null,
   "metadata": {},
   "outputs": [],
   "source": [
    "print(a2, '\\n')\n",
    "print(a2.shape, '\\n')\n",
    "print(a3, '\\n')\n",
    "print(a3.shape, '\\n')"
   ]
  },
  {
   "cell_type": "code",
   "execution_count": null,
   "metadata": {},
   "outputs": [],
   "source": [
    "a2_reshape = a2.reshape(2, 3, 1)\n",
    "print(a2, '\\n')\n",
    "print(a2_reshape)"
   ]
  },
  {
   "cell_type": "code",
   "execution_count": null,
   "metadata": {},
   "outputs": [],
   "source": [
    "a2_reshape * a3"
   ]
  },
  {
   "cell_type": "code",
   "execution_count": null,
   "metadata": {},
   "outputs": [],
   "source": [
    "print(a2, '\\n')\n",
    "print(a2.T)"
   ]
  },
  {
   "cell_type": "markdown",
   "metadata": {},
   "source": [
    "# DOT PRODUCT VS ELEMENT WISE"
   ]
  },
  {
   "cell_type": "code",
   "execution_count": null,
   "metadata": {},
   "outputs": [],
   "source": [
    "npr.seed(0)\n",
    "\n",
    "mat1 = npr.randint(10, size=(5, 3))\n",
    "mat2 = npr.randint(10, size=(5, 3))\n",
    "\n",
    "print(mat1, mat1.shape, '\\n')\n",
    "print(mat2, mat2.shape, '\\n')"
   ]
  },
  {
   "cell_type": "code",
   "execution_count": null,
   "metadata": {},
   "outputs": [],
   "source": [
    "print(f'{mat1.shape} - {mat2.shape}')\n",
    "print(f'{mat1.shape} - {mat2.T.shape}\\n')\n",
    "\n",
    "mat3 = np.dot(mat1, mat2.T)\n",
    "print(mat3)\n",
    "print(mat3.shape)"
   ]
  },
  {
   "cell_type": "markdown",
   "metadata": {},
   "source": [
    "# EXERCISE: NUT BUTTER STORE SALES"
   ]
  },
  {
   "cell_type": "code",
   "execution_count": null,
   "metadata": {},
   "outputs": [],
   "source": [
    "npr.seed(0)\n",
    "\n",
    "sales_amounts = npr.randint(20, size=(5, 3))\n",
    "weakly_sales = pd.DataFrame( sales_amounts,\n",
    "                            index=['Mon', 'Tues', 'Wed', 'Thurs', 'Fri'],\n",
    "                            columns=['Almond', 'Peanut', 'Cashew']  )\n",
    "weakly_sales"
   ]
  },
  {
   "cell_type": "code",
   "execution_count": null,
   "metadata": {},
   "outputs": [],
   "source": [
    "prices = np.array([10, 8, 12])\n",
    "butter_prices = pd.DataFrame(   prices.reshape(1, len(prices)),\n",
    "                                index=['Price'],\n",
    "                                columns=['Almond', 'Peanut', 'Cashew']  )\n",
    "butter_prices"
   ]
  },
  {
   "cell_type": "code",
   "execution_count": null,
   "metadata": {},
   "outputs": [],
   "source": [
    "total_sales = prices.dot(sales_amounts.T) \n",
    "daily_sales = butter_prices.dot(weakly_sales.T)\n",
    "weakly_sales['Total ($)'] = daily_sales.T\n",
    "weakly_sales"
   ]
  },
  {
   "cell_type": "markdown",
   "metadata": {},
   "source": [
    "# COMPARISON OPERATORS"
   ]
  },
  {
   "cell_type": "code",
   "execution_count": null,
   "metadata": {},
   "outputs": [],
   "source": [
    "print(a1, '\\n')\n",
    "print(a2, '\\n')\n",
    "print(a1 > a2, '\\n')\n",
    "\n",
    "bool_array = a1 >= a2\n",
    "print(bool_array, type(bool_array), bool_array.dtype, '\\n')\n",
    "\n",
    "print(a1 > 5)\n",
    "print(a1 < 5, '\\n')\n",
    "\n"
   ]
  },
  {
   "cell_type": "markdown",
   "metadata": {},
   "source": [
    "# SORTING ARRAYS"
   ]
  },
  {
   "cell_type": "code",
   "execution_count": null,
   "metadata": {},
   "outputs": [],
   "source": [
    "random_array = npr.randint(10, size=(3, 5))\n",
    "print(random_array, random_array.shape, '\\n')\n",
    "\n",
    "print(np.argmax(random_array, axis=0))\n",
    "print(np.argmax(random_array, axis=1), '\\n')\n",
    "\n",
    "print(np.sort(random_array), '\\n')\n",
    "print(np.argsort(random_array))"
   ]
  },
  {
   "cell_type": "code",
   "execution_count": null,
   "metadata": {},
   "outputs": [],
   "source": [
    "print(a1, '\\n')\n",
    "print(np.argsort(a1), '\\n')\n",
    "print(np.argmin(a1), np.argmax(a1))"
   ]
  },
  {
   "cell_type": "markdown",
   "metadata": {},
   "source": [
    "# TURN IMAGES INTO NUMPY ARRAYS"
   ]
  },
  {
   "cell_type": "code",
   "execution_count": null,
   "metadata": {},
   "outputs": [],
   "source": [
    "panda = imread('https://github.com/tronghieu2810/MACHINE-LEARNING/blob/main/UDM_ZTM_ML/images/numpy-panda.png?raw=true')\n",
    "print(f'{type(panda)} - {panda.size} - {panda.shape} - {panda.ndim}')"
   ]
  },
  {
   "cell_type": "code",
   "execution_count": null,
   "metadata": {},
   "outputs": [],
   "source": [
    "car = imread('https://github.com/tronghieu2810/MACHINE-LEARNING/blob/main/UDM_ZTM_ML/images/numpy-car-photo.png?raw=true')\n",
    "print(f'{type(car)} - {car.size} - {car.shape} - {car.ndim}')"
   ]
  }
 ],
 "metadata": {
  "interpreter": {
   "hash": "ee5cc6fef2d70a7e71ee3826687cbd150f18158e0b1eef11d4f4f92bb920e304"
  },
  "kernelspec": {
   "display_name": "Python 3.9.7 64-bit",
   "language": "python",
   "name": "python3"
  },
  "language_info": {
   "codemirror_mode": {
    "name": "ipython",
    "version": 3
   },
   "file_extension": ".py",
   "mimetype": "text/x-python",
   "name": "python",
   "nbconvert_exporter": "python",
   "pygments_lexer": "ipython3",
   "version": "3.9.7"
  },
  "orig_nbformat": 4
 },
 "nbformat": 4,
 "nbformat_minor": 2
}

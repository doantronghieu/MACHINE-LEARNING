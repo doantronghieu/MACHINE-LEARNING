{
 "cells": [
  {
   "cell_type": "markdown",
   "metadata": {},
   "source": [
    "# LIBRARIES"
   ]
  },
  {
   "cell_type": "code",
   "execution_count": null,
   "metadata": {},
   "outputs": [],
   "source": []
  },
  {
   "cell_type": "markdown",
   "metadata": {},
   "source": [
    "# FIRST PROGRAM"
   ]
  },
  {
   "cell_type": "code",
   "execution_count": null,
   "metadata": {},
   "outputs": [],
   "source": [
    "print('Trong Hieu')"
   ]
  },
  {
   "cell_type": "code",
   "execution_count": null,
   "metadata": {},
   "outputs": [],
   "source": [
    "input('What is your name?')"
   ]
  },
  {
   "cell_type": "code",
   "execution_count": null,
   "metadata": {},
   "outputs": [],
   "source": [
    "name = input('What is your name?')\n",
    "print(name)"
   ]
  },
  {
   "cell_type": "code",
   "execution_count": null,
   "metadata": {},
   "outputs": [],
   "source": [
    "name = input('What is your name?')\n",
    "print('Hello ' + name)"
   ]
  },
  {
   "cell_type": "markdown",
   "metadata": {},
   "source": [
    "# DATA TYPES"
   ]
  },
  {
   "cell_type": "code",
   "execution_count": null,
   "metadata": {},
   "outputs": [],
   "source": [
    "# Fundamental\n",
    "int\n",
    "float\n",
    "bool\n",
    "str\n",
    "list\n",
    "tuple\n",
    "set\n",
    "dict\n",
    "None\n",
    "\n",
    "# Custom\n",
    "class\n",
    "\n",
    "# Specialized"
   ]
  },
  {
   "cell_type": "markdown",
   "metadata": {},
   "source": [
    "# NUMBERS"
   ]
  },
  {
   "cell_type": "code",
   "execution_count": null,
   "metadata": {},
   "outputs": [],
   "source": [
    "print(2 + 4)\n",
    "print(2 - 4)\n",
    "print(2 * 4)\n",
    "print(2 / 4)"
   ]
  },
  {
   "cell_type": "code",
   "execution_count": null,
   "metadata": {},
   "outputs": [],
   "source": [
    "print(type(2 + 4))\n",
    "print(type(2 - 4))\n",
    "print(type(2 * 4))\n",
    "print(type(2 / 4))"
   ]
  },
  {
   "cell_type": "code",
   "execution_count": null,
   "metadata": {},
   "outputs": [],
   "source": [
    "print(type(0.00001))\n",
    "print(type(0))"
   ]
  },
  {
   "cell_type": "code",
   "execution_count": null,
   "metadata": {},
   "outputs": [],
   "source": [
    "print(type(0 + 0.00001))"
   ]
  },
  {
   "cell_type": "code",
   "execution_count": null,
   "metadata": {},
   "outputs": [],
   "source": [
    "print(2 ** 2)\n",
    "print(2 // 4)\n",
    "print(5 // 4)"
   ]
  },
  {
   "cell_type": "code",
   "execution_count": null,
   "metadata": {},
   "outputs": [],
   "source": [
    "print(5 % 4)\n",
    "print(5 % 5)"
   ]
  },
  {
   "cell_type": "markdown",
   "metadata": {},
   "source": [
    "# MATH FUNCTIONS"
   ]
  },
  {
   "cell_type": "code",
   "execution_count": null,
   "metadata": {},
   "outputs": [],
   "source": [
    "print(round(3.1))\n",
    "print(round(3.9))"
   ]
  },
  {
   "cell_type": "code",
   "execution_count": null,
   "metadata": {},
   "outputs": [],
   "source": [
    "print(abs(-20))"
   ]
  },
  {
   "cell_type": "markdown",
   "metadata": {},
   "source": [
    "# OPERATOR PRECEDENCE\n",
    "`()` -> `**` -> `* /` -> `+ -`"
   ]
  },
  {
   "cell_type": "code",
   "execution_count": null,
   "metadata": {},
   "outputs": [],
   "source": [
    "print(20 + 3 * 4)\n",
    "print(20 * 3 + 4)\n",
    "print((20 - 3) + 2 ** 2)"
   ]
  },
  {
   "cell_type": "markdown",
   "metadata": {},
   "source": [
    "# bin() AND complex"
   ]
  },
  {
   "cell_type": "code",
   "execution_count": null,
   "metadata": {},
   "outputs": [],
   "source": [
    "complex"
   ]
  },
  {
   "cell_type": "code",
   "execution_count": null,
   "metadata": {},
   "outputs": [],
   "source": [
    "print(bin(5))\n",
    "print(int('0b101', base=2))"
   ]
  },
  {
   "cell_type": "markdown",
   "metadata": {},
   "source": [
    "# VARIABLES"
   ]
  },
  {
   "cell_type": "code",
   "execution_count": null,
   "metadata": {},
   "outputs": [],
   "source": [
    "iq = 190\n",
    "print(iq)"
   ]
  },
  {
   "cell_type": "code",
   "execution_count": null,
   "metadata": {},
   "outputs": [],
   "source": [
    "user_iq   = 190\n",
    "_user_iq  = 190\n",
    "us4er_i3q = 190\n",
    "user_IQ   = 190\n",
    "# print   = 190\n",
    "# int     = 190"
   ]
  },
  {
   "cell_type": "code",
   "execution_count": null,
   "metadata": {},
   "outputs": [],
   "source": [
    "iq       = 190\n",
    "user_age = iq / 4\n",
    "print(user_age)\n",
    "\n",
    "a = user_age\n",
    "print(a)"
   ]
  },
  {
   "cell_type": "code",
   "execution_count": null,
   "metadata": {},
   "outputs": [],
   "source": [
    "# Constant\n",
    "PI = 3.14"
   ]
  },
  {
   "cell_type": "code",
   "execution_count": null,
   "metadata": {},
   "outputs": [],
   "source": [
    "a, b, c = 1, 2, 3\n",
    "print(a)\n",
    "print(b)\n",
    "print(c)"
   ]
  },
  {
   "cell_type": "markdown",
   "metadata": {},
   "source": [
    "# EXPRESSIONS & STATEMENTS"
   ]
  },
  {
   "cell_type": "code",
   "execution_count": null,
   "metadata": {},
   "outputs": [],
   "source": [
    "iq = 100\n",
    "user_age = iq / 5\n",
    "# user_age = iq / 5: statement\n",
    "#            iq / 5: expression"
   ]
  },
  {
   "cell_type": "markdown",
   "metadata": {},
   "source": [
    "# AUGMENTED ASSIGNMENT OPERATOR"
   ]
  },
  {
   "cell_type": "code",
   "execution_count": null,
   "metadata": {},
   "outputs": [],
   "source": [
    "some_value = 5\n",
    "some_value = some_value + 2\n",
    "print(some_value)"
   ]
  },
  {
   "cell_type": "code",
   "execution_count": null,
   "metadata": {},
   "outputs": [],
   "source": [
    "some_value = 5\n",
    "some_value += 2\n",
    "print(some_value)"
   ]
  },
  {
   "cell_type": "code",
   "execution_count": null,
   "metadata": {},
   "outputs": [],
   "source": [
    "some_value = 5\n",
    "some_value -= 2\n",
    "print(some_value)"
   ]
  },
  {
   "cell_type": "markdown",
   "metadata": {},
   "source": [
    "# STRINGS"
   ]
  },
  {
   "cell_type": "code",
   "execution_count": null,
   "metadata": {},
   "outputs": [],
   "source": [
    "'hi'\n",
    "\"hi\"\n",
    "'hi 123'\n",
    "print(type('hi'))"
   ]
  },
  {
   "cell_type": "code",
   "execution_count": null,
   "metadata": {},
   "outputs": [],
   "source": [
    "user_name = 'Super coder'\n",
    "password  = 'SuPeR sEcrEt'"
   ]
  },
  {
   "cell_type": "code",
   "execution_count": null,
   "metadata": {},
   "outputs": [],
   "source": [
    "long_string = '''\n",
    "WOW\n",
    "O O\n",
    " .\n",
    "'''\n",
    "print(long_string)"
   ]
  },
  {
   "cell_type": "code",
   "execution_count": null,
   "metadata": {},
   "outputs": [],
   "source": [
    "first_name = 'Doan'\n",
    "last_name  = 'Hieu'\n",
    "full_name  = first_name + ' ' + last_name\n",
    "print(full_name)"
   ]
  },
  {
   "cell_type": "markdown",
   "metadata": {},
   "source": [
    "# STRING CONCATENATION\n",
    "# TYPE CONVERSION"
   ]
  },
  {
   "cell_type": "code",
   "execution_count": null,
   "metadata": {},
   "outputs": [],
   "source": [
    "print('Hello' + 'Students')\n"
   ]
  },
  {
   "cell_type": "code",
   "execution_count": null,
   "metadata": {},
   "outputs": [],
   "source": [
    "print(str(100))\n",
    "print(type(str(100)))\n",
    "print(type(int(str(100))))"
   ]
  },
  {
   "cell_type": "markdown",
   "metadata": {},
   "source": [
    "# ESCAPE SEQUENCES"
   ]
  },
  {
   "cell_type": "code",
   "execution_count": null,
   "metadata": {},
   "outputs": [],
   "source": [
    "weather = 'It's sunny'\n",
    "weather = \"It's sunny\"\n",
    "weather = \"It's \"kind of\" sunny\"\n",
    "weather = \"It's \\\"kind of\\\" sunny\""
   ]
  },
  {
   "cell_type": "code",
   "execution_count": null,
   "metadata": {},
   "outputs": [],
   "source": [
    "weather = \"It's \\\"kind of\\\" sunny\"\n",
    "print(weather)"
   ]
  },
  {
   "cell_type": "code",
   "execution_count": null,
   "metadata": {},
   "outputs": [],
   "source": [
    "weather = \"It's\\\\ \\\"kind of\\\" sunny\"\n",
    "print(weather)"
   ]
  },
  {
   "cell_type": "code",
   "execution_count": null,
   "metadata": {},
   "outputs": [],
   "source": [
    "weather = \"\\t It's \\\"kind of\\\" sunny\"\n",
    "print(weather)"
   ]
  },
  {
   "cell_type": "code",
   "execution_count": null,
   "metadata": {},
   "outputs": [],
   "source": [
    "print('Old line')\n",
    "weather = \"\\n It's \\\"kind of\\\" sunny\"\n",
    "print(weather)"
   ]
  },
  {
   "cell_type": "markdown",
   "metadata": {},
   "source": [
    "# FORMATTED STRINGS"
   ]
  },
  {
   "cell_type": "code",
   "execution_count": null,
   "metadata": {},
   "outputs": [],
   "source": [
    "name = 'Johnny'\n",
    "age  = 55\n",
    "\n",
    "print('Hi ' + name + '. You are ' + str(age) + ' years old.')\n",
    "print(f'Hi {name}. You are {age} years old.')\n",
    "print('Hi {}. You are {} years old.'.format('Johnny', '55'))\n",
    "print('Hi {}. You are {} years old.'.format(name, age))\n",
    "print('Hi {1}. You are {0} years old.'.format(name, age))\n",
    "print('Hi {new_name}. You are {age} years old.'.format(new_name='Sally', age=100))"
   ]
  },
  {
   "cell_type": "markdown",
   "metadata": {},
   "source": [
    "# STRING INDEXS"
   ]
  },
  {
   "cell_type": "code",
   "execution_count": null,
   "metadata": {},
   "outputs": [],
   "source": [
    "selfish = '01234567'\n",
    "        #  01234567\n",
    "print(selfish[0])\n",
    "print(selfish[7])\n",
    "print(selfish)"
   ]
  },
  {
   "cell_type": "code",
   "execution_count": null,
   "metadata": {},
   "outputs": [],
   "source": [
    "# [start:stop]\n",
    "print(selfish[0:2])\n",
    "print(selfish[0:7])\n",
    "print(selfish[0:8])"
   ]
  },
  {
   "cell_type": "code",
   "execution_count": null,
   "metadata": {},
   "outputs": [],
   "source": [
    "# [start:stop:stepover]\n",
    "print(selfish[0:8:1])\n",
    "print(selfish[0:8:2])\n",
    "print(selfish[1:])\n",
    "print(selfish[:5])\n",
    "print(selfish[::1])"
   ]
  },
  {
   "cell_type": "code",
   "execution_count": null,
   "metadata": {},
   "outputs": [],
   "source": [
    "print(selfish[-1])\n",
    "print(selfish[-2])\n",
    "print(selfish[::-1])\n",
    "print(selfish[::-2])"
   ]
  },
  {
   "cell_type": "markdown",
   "metadata": {},
   "source": [
    "# IMMUTABILITY"
   ]
  },
  {
   "cell_type": "code",
   "execution_count": null,
   "metadata": {},
   "outputs": [],
   "source": [
    "# [start:stop:stepover]: Slicing\n",
    "print(selfish)\n",
    "\n",
    "selfish = '100'\n",
    "print(selfish)"
   ]
  },
  {
   "cell_type": "code",
   "execution_count": null,
   "metadata": {},
   "outputs": [],
   "source": [
    "selfish[0] = '8'\n",
    "print(selfish)"
   ]
  },
  {
   "cell_type": "markdown",
   "metadata": {},
   "source": [
    "# BUILT-IN FUNCTIONS & METHODS"
   ]
  },
  {
   "cell_type": "code",
   "execution_count": null,
   "metadata": {},
   "outputs": [],
   "source": [
    "# Built-in\n",
    "str()\n",
    "int()\n",
    "type()\n",
    "print()"
   ]
  },
  {
   "cell_type": "code",
   "execution_count": null,
   "metadata": {},
   "outputs": [],
   "source": [
    "print(len('Hello'))"
   ]
  },
  {
   "cell_type": "code",
   "execution_count": null,
   "metadata": {},
   "outputs": [],
   "source": [
    "greet = 'Hello'\n",
    "print(greet[0:])\n",
    "print(greet[0:len(greet)])"
   ]
  },
  {
   "cell_type": "code",
   "execution_count": null,
   "metadata": {},
   "outputs": [],
   "source": [
    "# Methods\n",
    "quote = 'to be or not to be'\n",
    "\n",
    "print(quote.upper())\n",
    "print(quote.capitalize())\n",
    "print(quote.lower())\n",
    "print(quote.find('be'))\n",
    "print(quote.replace('be','me'))\n",
    "print(quote)"
   ]
  },
  {
   "cell_type": "code",
   "execution_count": null,
   "metadata": {},
   "outputs": [],
   "source": [
    "quote2 = quote.replace('be','me')\n",
    "print(quote2)"
   ]
  },
  {
   "cell_type": "markdown",
   "metadata": {},
   "source": [
    "# BOOLEANS"
   ]
  },
  {
   "cell_type": "code",
   "execution_count": null,
   "metadata": {},
   "outputs": [],
   "source": [
    "True\n",
    "False"
   ]
  },
  {
   "cell_type": "code",
   "execution_count": null,
   "metadata": {},
   "outputs": [],
   "source": [
    "name = 'Student'\n",
    "is_cool = False\n",
    "is_cool = True"
   ]
  },
  {
   "cell_type": "code",
   "execution_count": null,
   "metadata": {},
   "outputs": [],
   "source": [
    "print(bool(1))\n",
    "print(bool(0))\n",
    "print(bool('True'))"
   ]
  },
  {
   "cell_type": "markdown",
   "metadata": {},
   "source": [
    "# TYPE CONVERSION"
   ]
  },
  {
   "cell_type": "code",
   "execution_count": null,
   "metadata": {},
   "outputs": [],
   "source": [
    "name = 'Good Student'\n",
    "age  = 50\n",
    "relationship_status = 'Single'\n",
    "print(relationship_status)\n",
    "\n",
    "relationship_status = 'It\\'s complicated'\n",
    "print(relationship_status)"
   ]
  },
  {
   "cell_type": "code",
   "execution_count": null,
   "metadata": {},
   "outputs": [],
   "source": [
    "birth_year = input('What year were born?')\n",
    "age = 2022 - birth_year\n",
    "print(f'Your age is: {age}')"
   ]
  },
  {
   "cell_type": "code",
   "execution_count": null,
   "metadata": {},
   "outputs": [],
   "source": [
    "birth_year = int(input('What year were born?'))\n",
    "age = 2022 - birth_year\n",
    "print(f'Your age is: {age}')"
   ]
  },
  {
   "cell_type": "markdown",
   "metadata": {},
   "source": [
    "# COMMENTING"
   ]
  },
  {
   "cell_type": "code",
   "execution_count": null,
   "metadata": {},
   "outputs": [],
   "source": [
    "# Boolean\n",
    "name = 'Student' # This is a 'valuable' comment\n",
    "is_cool = False\n",
    "is_cool = True"
   ]
  },
  {
   "cell_type": "markdown",
   "metadata": {},
   "source": [
    "# PASSWORD CHECKER"
   ]
  },
  {
   "cell_type": "code",
   "execution_count": null,
   "metadata": {},
   "outputs": [],
   "source": [
    "user_name = input('What is your username?')\n",
    "password  = input('What is your password?')\n",
    "\n",
    "password_length = len(password)\n",
    "hidden_password = '*' * password_length\n",
    "\n",
    "print(f'Hi {user_name}, your password {hidden_password}, is {password_length} letters long.')"
   ]
  },
  {
   "cell_type": "markdown",
   "metadata": {},
   "source": [
    "# LISTS"
   ]
  },
  {
   "cell_type": "code",
   "execution_count": null,
   "metadata": {},
   "outputs": [],
   "source": [
    "li  = [1, 2, 3, 4, 5]\n",
    "li2 = ['a', 'b', 'c']\n",
    "li3 = [1, 2.5, 'a', True]"
   ]
  },
  {
   "cell_type": "code",
   "execution_count": null,
   "metadata": {},
   "outputs": [],
   "source": [
    "amazon_cart = ['notebooks', 'sunglasses']\n",
    "\n",
    "print(amazon_cart[0])\n",
    "print(amazon_cart[1])"
   ]
  },
  {
   "cell_type": "markdown",
   "metadata": {},
   "source": [
    "# LIST SLICING"
   ]
  },
  {
   "cell_type": "code",
   "execution_count": null,
   "metadata": {},
   "outputs": [],
   "source": [
    "amazon_cart = [ 'notebooks',\n",
    "                'sunglasses',\n",
    "                'toys',\n",
    "                'grapes'    ]\n",
    "\n",
    "print(amazon_cart)\n",
    "print(amazon_cart[0:2])\n",
    "print(amazon_cart[0::2])"
   ]
  },
  {
   "cell_type": "code",
   "execution_count": null,
   "metadata": {},
   "outputs": [],
   "source": [
    "amazon_cart[0] = 'Laptop'\n",
    "print(amazon_cart)\n",
    "print(amazon_cart[0:3])\n",
    "print(amazon_cart[1:3])"
   ]
  },
  {
   "cell_type": "code",
   "execution_count": null,
   "metadata": {},
   "outputs": [],
   "source": [
    "new_cart = amazon_cart[0:3]\n",
    "print(new_cart)\n",
    "\n",
    "new_cart[0] = 'gum'\n",
    "print(new_cart)\n",
    "print(amazon_cart)"
   ]
  },
  {
   "cell_type": "code",
   "execution_count": null,
   "metadata": {},
   "outputs": [],
   "source": [
    "new_cart = amazon_cart\n",
    "new_cart[0] = 'gum'\n",
    "print(new_cart)\n",
    "print(amazon_cart)"
   ]
  },
  {
   "cell_type": "code",
   "execution_count": null,
   "metadata": {},
   "outputs": [],
   "source": [
    "amazon_cart = [ 'notebooks',\n",
    "                'sunglasses',\n",
    "                'toys',\n",
    "                'grapes'    ]\n",
    "\n",
    "new_cart = amazon_cart[:]\n",
    "new_cart[0] = 'gum'\n",
    "\n",
    "print(new_cart)\n",
    "print(amazon_cart)"
   ]
  },
  {
   "cell_type": "markdown",
   "metadata": {},
   "source": [
    "# MATRIX"
   ]
  },
  {
   "cell_type": "code",
   "execution_count": null,
   "metadata": {},
   "outputs": [],
   "source": [
    "matrix = [  [1, 2, 3],\n",
    "            [2, 4, 6],\n",
    "            [7, 8, 9]   ]\n",
    "\n",
    "print(matrix[0])\n",
    "print(matrix[0][1])"
   ]
  },
  {
   "cell_type": "markdown",
   "metadata": {},
   "source": [
    "# LIST METHODS"
   ]
  },
  {
   "cell_type": "code",
   "execution_count": null,
   "metadata": {},
   "outputs": [],
   "source": [
    "basket = [1, 2, 3, 4, 5]\n",
    "\n",
    "print(basket)\n",
    "print(len(basket))"
   ]
  },
  {
   "cell_type": "code",
   "execution_count": null,
   "metadata": {},
   "outputs": [],
   "source": [
    "new_list = basket.append(100) # Change the list in place. Do not produce result\n",
    "print(basket)\n",
    "print(new_list, '\\n')\n",
    "\n",
    "new_list = basket\n",
    "print(new_list)"
   ]
  },
  {
   "cell_type": "code",
   "execution_count": null,
   "metadata": {},
   "outputs": [],
   "source": [
    "print(basket)\n",
    "basket.insert(4, 100)\n",
    "print(basket)"
   ]
  },
  {
   "cell_type": "code",
   "execution_count": null,
   "metadata": {},
   "outputs": [],
   "source": [
    "basket = [1, 2, 3, 4, 5]\n",
    "\n",
    "new_list = basket.extend([100, 101])\n",
    "\n",
    "print(basket)\n",
    "print(new_list, '\\n')"
   ]
  },
  {
   "cell_type": "code",
   "execution_count": null,
   "metadata": {},
   "outputs": [],
   "source": [
    "basket = [1, 2, 3, 4, 5]\n",
    "print(basket)\n",
    "\n",
    "new_list = basket.extend([100])\n",
    "print(basket)\n",
    "\n",
    "basket.pop()\n",
    "print(basket)\n",
    "\n",
    "basket.pop()\n",
    "print(basket)\n",
    "\n",
    "popped_value = basket.pop(0)\n",
    "print(basket)\n",
    "print(popped_value)\n"
   ]
  },
  {
   "cell_type": "code",
   "execution_count": null,
   "metadata": {},
   "outputs": [],
   "source": [
    "basket = [1, 2, 3, 4, 5]\n",
    "print(basket)\n",
    "\n",
    "basket.remove(4)\n",
    "print(basket)\n"
   ]
  },
  {
   "cell_type": "code",
   "execution_count": null,
   "metadata": {},
   "outputs": [],
   "source": [
    "basket = [1, 2, 3, 4, 5]\n",
    "print(basket)\n",
    "\n",
    "basket.clear()\n",
    "print(basket)"
   ]
  },
  {
   "cell_type": "code",
   "execution_count": null,
   "metadata": {},
   "outputs": [],
   "source": [
    "basket = ['a', 'b', 'c', 'd', 'e']\n",
    "\n",
    "print(basket.index('d'))\n",
    "print(basket.index('d', 0, 4))\n",
    "\n",
    "print('d' in basket)\n",
    "print('x' in basket)\n",
    "\n",
    "print(basket.count('d'))\n",
    "\n",
    "basket = ['a', 'b', 'c', 'd', 'e', 'd']\n",
    "print(basket.count('d'))\n"
   ]
  },
  {
   "cell_type": "code",
   "execution_count": null,
   "metadata": {},
   "outputs": [],
   "source": [
    "print('i' in 'Hihi')"
   ]
  },
  {
   "cell_type": "code",
   "execution_count": null,
   "metadata": {},
   "outputs": [],
   "source": [
    "basket = ['a', 'x', 'b', 'c', 'd', 'e', 'd']\n",
    "\n",
    "basket.sort()\n",
    "print(basket, '\\n')\n",
    "\n",
    "basket = ['a', 'x', 'b', 'c', 'd', 'e', 'd']\n",
    "print(sorted(basket))\n",
    "print(basket, '\\n')\n",
    "\n",
    "new_basket = basket.copy()\n",
    "new_basket.sort()\n",
    "print(new_basket)\n",
    "print(basket, '\\n')\n",
    "\n",
    "basket.reverse()\n",
    "print(basket, '\\n')\n",
    "\n",
    "basket = ['a', 'x', 'b', 'c', 'd', 'e', 'd']\n",
    "print(basket)\n",
    "basket.sort()\n",
    "basket.reverse()\n",
    "print(basket)"
   ]
  },
  {
   "cell_type": "markdown",
   "metadata": {},
   "source": [
    "# COMMON LIST PATTERNS"
   ]
  },
  {
   "cell_type": "code",
   "execution_count": null,
   "metadata": {},
   "outputs": [],
   "source": [
    "basket = ['a', 'x', 'b', 'c', 'd', 'e', 'd']\n",
    "print(basket)\n",
    "\n",
    "basket.sort()\n",
    "print(basket)\n",
    "\n",
    "basket.reverse()\n",
    "print(basket)\n",
    "\n",
    "print(basket[::-1])"
   ]
  },
  {
   "cell_type": "code",
   "execution_count": null,
   "metadata": {},
   "outputs": [],
   "source": [
    "print(range(1, 100), '\\n')\n",
    "print(list(range(1, 100)), '\\n')\n",
    "print(list(range(1, 101)))"
   ]
  },
  {
   "cell_type": "code",
   "execution_count": null,
   "metadata": {},
   "outputs": [],
   "source": [
    "sentence = '!'\n",
    "new_sentence = sentence.join(['Hi', 'my', 'name', 'is', 'Haha'])\n",
    "\n",
    "print(sentence)\n",
    "print(new_sentence)\n",
    "\n",
    "new_sentence = '?'.join(['Hi', 'my', 'name', 'is', 'Haha'])\n",
    "print(new_sentence)"
   ]
  },
  {
   "cell_type": "markdown",
   "metadata": {},
   "source": [
    "# LIST UNPACKING"
   ]
  },
  {
   "cell_type": "code",
   "execution_count": null,
   "metadata": {},
   "outputs": [],
   "source": [
    "a, b, c, *others, d = [1, 2, 3, 4, 5, 6, 7, 8, 9]\n",
    "\n",
    "print(a)\n",
    "print(b)\n",
    "print(c)\n",
    "print(others)\n",
    "print(d)"
   ]
  },
  {
   "cell_type": "markdown",
   "metadata": {},
   "source": [
    "# NONE"
   ]
  },
  {
   "cell_type": "code",
   "execution_count": null,
   "metadata": {},
   "outputs": [],
   "source": [
    "weapons = None\n",
    "print(weapons)"
   ]
  },
  {
   "cell_type": "markdown",
   "metadata": {},
   "source": [
    "# DICTIONARIES"
   ]
  },
  {
   "cell_type": "code",
   "execution_count": null,
   "metadata": {},
   "outputs": [],
   "source": [
    "dict"
   ]
  },
  {
   "cell_type": "code",
   "execution_count": null,
   "metadata": {},
   "outputs": [],
   "source": [
    "dictionary = {\n",
    "    'a': 1,\n",
    "    'b': 2,\n",
    "    'x': 3\n",
    "}\n",
    "\n",
    "print(dictionary)\n",
    "\n",
    "print(dictionary['b'])"
   ]
  },
  {
   "cell_type": "code",
   "execution_count": null,
   "metadata": {},
   "outputs": [],
   "source": [
    "dictionary = {\n",
    "    'a': [1, 2, 3],\n",
    "    'b': 'Hello',\n",
    "    'x': True\n",
    "}\n",
    "\n",
    "my_list = [\n",
    "    {   'a': [1, 2, 3],\n",
    "        'b': 'Hello',\n",
    "        'x': True   },\n",
    "    {   'a': [4, 5, 6],\n",
    "        'b': 'Hello',\n",
    "        'x': True   }\n",
    "]\n",
    "\n",
    "print(dictionary)\n",
    "print(dictionary['a'][1])\n",
    "print(my_list[0]['a'][2])"
   ]
  },
  {
   "cell_type": "markdown",
   "metadata": {},
   "source": [
    "# DICTIONARY KEYS"
   ]
  },
  {
   "cell_type": "code",
   "execution_count": null,
   "metadata": {},
   "outputs": [],
   "source": [
    "dictionary = {\n",
    "    123: [1, 2, 3],\n",
    "    True: 'Hello',\n",
    "    'is_magic': True\n",
    "}\n",
    "\n",
    "print(dictionary[123]) # Keys: Something can not change\n",
    "print(dictionary[True])"
   ]
  },
  {
   "cell_type": "code",
   "execution_count": null,
   "metadata": {},
   "outputs": [],
   "source": [
    "dictionary = {\n",
    "    '123': [1, 2, 3],\n",
    "    '123': 'Hello',\n",
    "    'is_magic': True\n",
    "}\n",
    "\n",
    "print(dictionary['123']) # Unique key"
   ]
  },
  {
   "cell_type": "markdown",
   "metadata": {},
   "source": [
    "# DICTIONARY METHODS"
   ]
  },
  {
   "cell_type": "code",
   "execution_count": null,
   "metadata": {},
   "outputs": [],
   "source": [
    "user = {\n",
    "    'basket': [1, 2, 3],\n",
    "    'greet':  'hello'\n",
    "}\n",
    "\n",
    "print(user.get('age'))\n",
    "print(user.get('age', 55), '\\n')\n",
    "##########################\n",
    "user = {\n",
    "    'basket': [1, 2, 3],\n",
    "    'greet':  'hello',\n",
    "    'age':    20\n",
    "}\n",
    "print(user.get('age', 55), '\\n')\n",
    "##########################\n",
    "print('basket' in user)\n",
    "print('size'   in user, '\\n')\n",
    "\n",
    "print('age'   in user.keys())\n",
    "print('hello' in user.values(), '\\n')\n",
    "\n",
    "print(user.items())"
   ]
  },
  {
   "cell_type": "code",
   "execution_count": null,
   "metadata": {},
   "outputs": [],
   "source": [
    "user2 = dict(name='John')\n",
    "print(user2)"
   ]
  },
  {
   "cell_type": "code",
   "execution_count": null,
   "metadata": {},
   "outputs": [],
   "source": [
    "print(user.clear())\n",
    "print(user)"
   ]
  },
  {
   "cell_type": "code",
   "execution_count": null,
   "metadata": {},
   "outputs": [],
   "source": [
    "user = {\n",
    "    'basket': [1, 2, 3],\n",
    "    'greet':  'hello',\n",
    "    'age':    20\n",
    "}\n",
    "\n",
    "user2 = user.copy()\n",
    "print(user)\n",
    "print(user2, '\\n')\n",
    "\n",
    "print(user.clear())\n",
    "print(user2)"
   ]
  },
  {
   "cell_type": "code",
   "execution_count": null,
   "metadata": {},
   "outputs": [],
   "source": [
    "user = {\n",
    "    'basket': [1, 2, 3],\n",
    "    'greet':  'hello',\n",
    "    'age':    20\n",
    "}\n",
    "\n",
    "print(user.pop('age'))\n",
    "print(user, '\\n')\n",
    "\n",
    "print(user.popitem())\n",
    "print(user, '\\n')"
   ]
  },
  {
   "cell_type": "code",
   "execution_count": null,
   "metadata": {},
   "outputs": [],
   "source": [
    "user = {\n",
    "    'basket': [1, 2, 3],\n",
    "    'greet':  'hello',\n",
    "    'age':    20\n",
    "}\n",
    "\n",
    "print(user.update({'age': 55}))\n",
    "print(user)\n"
   ]
  },
  {
   "cell_type": "markdown",
   "metadata": {},
   "source": [
    "# TUPLES"
   ]
  },
  {
   "cell_type": "code",
   "execution_count": null,
   "metadata": {},
   "outputs": [],
   "source": [
    "my_tuple = (1, 2, 3, 4, 5)\n",
    "# my_tuple[1] = 'z'\n",
    "print(my_tuple[1])\n",
    "print(5 in my_tuple)"
   ]
  },
  {
   "cell_type": "code",
   "execution_count": null,
   "metadata": {},
   "outputs": [],
   "source": [
    "my_tuple = (1, 2, 3, 4, 5)\n",
    "\n",
    "new_tuple = my_tuple[1:2]\n",
    "print(new_tuple)\n",
    "\n",
    "new_tuple = my_tuple[1:4]\n",
    "print(new_tuple)\n",
    "\n",
    "x, y, z, *others = (1, 2, 3, 4, 5)\n",
    "print(x, y, z, others)\n",
    "\n",
    "print(my_tuple.count(5), my_tuple.index(5), len(my_tuple))"
   ]
  },
  {
   "cell_type": "markdown",
   "metadata": {},
   "source": [
    "# SETS"
   ]
  },
  {
   "cell_type": "code",
   "execution_count": null,
   "metadata": {},
   "outputs": [],
   "source": [
    "my_set = {1, 2, 3, 4, 5, 5}\n",
    "my_set.add(100)\n",
    "my_set.add(2)\n",
    "\n",
    "print(my_set)\n",
    "print(1 in my_set)\n",
    "print(len(my_set))"
   ]
  },
  {
   "cell_type": "code",
   "execution_count": null,
   "metadata": {},
   "outputs": [],
   "source": [
    "my_list = [1, 2, 3, 4, 5, 5]\n",
    "print(list(set(my_list)))"
   ]
  },
  {
   "cell_type": "code",
   "execution_count": null,
   "metadata": {},
   "outputs": [],
   "source": [
    "new_set = my_set.copy()\n",
    "print(new_set)\n",
    "print(my_set)\n",
    "\n",
    "my_set.clear()\n",
    "print(new_set)\n",
    "print(my_set)"
   ]
  },
  {
   "cell_type": "code",
   "execution_count": null,
   "metadata": {},
   "outputs": [],
   "source": [
    "my_set = {1, 2, 3, 4, 5}\n",
    "your_set = {4, 5, 6, 7, 8, 9, 10}\n",
    "print(my_set)\n",
    "print(your_set, '\\n')\n",
    "\n",
    "print(my_set.difference(your_set), my_set)\n",
    "print(my_set.discard(5), my_set)\n",
    "print(my_set.difference_update(your_set), my_set)\n",
    "print(my_set.intersection(your_set)) # `&`\n",
    "print(my_set.isdisjoint(your_set))\n",
    "print(my_set.union(your_set)) # |\n"
   ]
  },
  {
   "cell_type": "code",
   "execution_count": null,
   "metadata": {},
   "outputs": [],
   "source": [
    "my_set = {4, 5}\n",
    "your_set = {4, 5, 6, 7, 8, 9, 10}\n",
    "\n",
    "print(my_set.issubset(your_set))\n",
    "print(my_set.issuperset(your_set))"
   ]
  },
  {
   "cell_type": "markdown",
   "metadata": {},
   "source": [
    "# CONDITIONAL LOGIC"
   ]
  },
  {
   "cell_type": "code",
   "execution_count": null,
   "metadata": {},
   "outputs": [],
   "source": [
    "is_old = True\n",
    "is_licenced = True\n",
    "\n",
    "if (is_old):\n",
    "    print('You are old enough to drive!')\n",
    "\n",
    "print('Checkcheck')\n",
    "\n",
    "is_old = False\n",
    "if (is_old):\n",
    "    print('You are old enough to drive!')\n",
    "\n",
    "print('Checkcheck')"
   ]
  },
  {
   "cell_type": "code",
   "execution_count": null,
   "metadata": {},
   "outputs": [],
   "source": [
    "is_old = False\n",
    "is_licenced = True\n",
    "\n",
    "if (is_old):\n",
    "    print('You are old enough to drive!')\n",
    "elif(is_licenced):\n",
    "    print('You can drive now!')\n",
    "else:\n",
    "    print('You are not of age')\n",
    "\n",
    "print('OkOk')"
   ]
  },
  {
   "cell_type": "code",
   "execution_count": null,
   "metadata": {},
   "outputs": [],
   "source": [
    "is_old = False\n",
    "is_licenced = False\n",
    "\n",
    "if (is_old):\n",
    "    print('You are old enough to drive!')\n",
    "elif(is_licenced):\n",
    "    print('You can drive now!')\n",
    "else:\n",
    "    print('You are not of age')\n",
    "\n",
    "print('OkOk')"
   ]
  },
  {
   "cell_type": "code",
   "execution_count": null,
   "metadata": {},
   "outputs": [],
   "source": [
    "is_old = True\n",
    "is_licenced = False\n",
    "\n",
    "if (is_old and is_licenced):\n",
    "    print('You are old enough to drive, and you have a licence!')\n",
    "else:\n",
    "    print('You are not of age!')\n",
    "\n",
    "print('OkOk')"
   ]
  },
  {
   "cell_type": "markdown",
   "metadata": {},
   "source": [
    "# TRUTHY & FALSEY"
   ]
  },
  {
   "cell_type": "code",
   "execution_count": null,
   "metadata": {},
   "outputs": [],
   "source": [
    "is_old = 'hello'\n",
    "is_licenced = 5\n",
    "\n",
    "print(bool(is_old), bool(is_licenced))\n",
    "\n",
    "if (is_old and is_licenced):\n",
    "    print('You are old enough to drive, and you have a licence!')\n",
    "else:\n",
    "    print('You are not of age!')\n",
    "\n",
    "print('OkOk')\n",
    "\n",
    "print(bool(''), bool(0))"
   ]
  },
  {
   "cell_type": "markdown",
   "metadata": {},
   "source": [
    "# TERNARY OPERATOR\n",
    "`condition_if_true` if `condition` else `condition_if_false`"
   ]
  },
  {
   "cell_type": "code",
   "execution_count": null,
   "metadata": {},
   "outputs": [],
   "source": [
    "is_friend = True\n",
    "can_message = 'Message allowed' if is_friend else 'Not allowed to message'\n",
    "print(can_message)"
   ]
  },
  {
   "cell_type": "code",
   "execution_count": null,
   "metadata": {},
   "outputs": [],
   "source": [
    "is_friend = False\n",
    "can_message = 'Message allowed' if is_friend else 'Not allowed to message'\n",
    "print(can_message)"
   ]
  },
  {
   "cell_type": "markdown",
   "metadata": {},
   "source": [
    "# SHORT CIRCUITING"
   ]
  },
  {
   "cell_type": "code",
   "execution_count": null,
   "metadata": {},
   "outputs": [],
   "source": [
    "is_Friend = True\n",
    "is_User   = False\n",
    "\n",
    "if (is_Friend or is_User):\n",
    "    print('Best friend forever!')"
   ]
  },
  {
   "cell_type": "markdown",
   "metadata": {},
   "source": [
    "# LOGICAL OPERATOR"
   ]
  },
  {
   "cell_type": "code",
   "execution_count": null,
   "metadata": {},
   "outputs": [],
   "source": [
    "print(4 > 5)\n",
    "print(4 < 5)\n",
    "print(4 == 5)\n",
    "print('a' > 'b')\n",
    "print('a' > 'A')\n",
    "print(1 < 2 < 3 < 4)\n",
    "print(1 >= 0)\n",
    "print(0 <= 0)\n",
    "print(0 != 0)\n",
    "print(0 != 1)"
   ]
  },
  {
   "cell_type": "code",
   "execution_count": null,
   "metadata": {},
   "outputs": [],
   "source": [
    "print(not(True))"
   ]
  },
  {
   "cell_type": "code",
   "execution_count": null,
   "metadata": {},
   "outputs": [],
   "source": [
    "is_magician = False\n",
    "is_expert   = True\n",
    "\n",
    "if (is_expert and is_magician):\n",
    "    print('You are a master magician')\n",
    "elif (is_magician and not is_expert):\n",
    "    print('At least you are getting there')\n",
    "elif (not is_magician):\n",
    "    print('You need magic powers')"
   ]
  },
  {
   "cell_type": "markdown",
   "metadata": {},
   "source": [
    "# is vs. =="
   ]
  },
  {
   "cell_type": "code",
   "execution_count": null,
   "metadata": {},
   "outputs": [],
   "source": [
    "print(1 == True)\n",
    "print(10 == 10.0)\n",
    "print('' == 1)"
   ]
  },
  {
   "cell_type": "code",
   "execution_count": null,
   "metadata": {},
   "outputs": [],
   "source": [
    "print(1 is True)\n",
    "print(10 is 10.0)\n",
    "print('' is 1)\n",
    "print(1 is 1)"
   ]
  },
  {
   "cell_type": "code",
   "execution_count": null,
   "metadata": {},
   "outputs": [],
   "source": [
    "a = [1, 2, 3]\n",
    "b = [1, 2, 3]\n",
    "\n",
    "print(a is b, a == b)"
   ]
  },
  {
   "cell_type": "markdown",
   "metadata": {},
   "source": [
    "# FOR LOOPS"
   ]
  },
  {
   "cell_type": "code",
   "execution_count": null,
   "metadata": {},
   "outputs": [],
   "source": [
    "for item in 'Zero to Mastery':\n",
    "    print(item, end='-')\n",
    "\n",
    "print()\n",
    "for item in [1, 2, 3, 4, 5]:\n",
    "    print(item, end='-')\n",
    "\n",
    "print()\n",
    "for item in {1, 2, 3, 4, 5}:\n",
    "    print(item, end='-')\n",
    "\n",
    "print()\n",
    "for item in (1, 2, 3, 4, 5):\n",
    "    print(item, end='-')"
   ]
  },
  {
   "cell_type": "code",
   "execution_count": null,
   "metadata": {},
   "outputs": [],
   "source": [
    "for item in (1, 2, 3, 4, 5):\n",
    "    for x in ['a', 'b', 'c']:\n",
    "        print(item, x)\n",
    "    print('===')"
   ]
  },
  {
   "cell_type": "markdown",
   "metadata": {},
   "source": [
    "# ITERABLES"
   ]
  },
  {
   "cell_type": "code",
   "execution_count": null,
   "metadata": {},
   "outputs": [],
   "source": [
    "user = {\n",
    "    'name': 'Student',\n",
    "    'age':  22,\n",
    "    'can_swim': False\n",
    "}\n",
    "\n",
    "for item in user:\n",
    "    print(item, end=' ')\n",
    "print()\n",
    "\n",
    "for item in user.items():\n",
    "    print(item, end=' ')\n",
    "print()\n",
    "\n",
    "for item in user.values():\n",
    "    print(item, end=' ')\n",
    "print()\n",
    "\n",
    "for item in user.keys():\n",
    "    print(item, end=' ')\n",
    "print()\n",
    "\n",
    "for key, value in user.items():\n",
    "    print(f'({key} - {value})', end='   ')"
   ]
  },
  {
   "cell_type": "markdown",
   "metadata": {},
   "source": [
    "# TRICKY COUNTER"
   ]
  },
  {
   "cell_type": "code",
   "execution_count": null,
   "metadata": {},
   "outputs": [],
   "source": [
    "my_list = [1, 2, 3, 4, 5, 6, 7, 8, 9, 10]\n",
    "\n",
    "counter = 0\n",
    "for item in my_list:\n",
    "    counter += item\n",
    "\n",
    "print(counter)"
   ]
  },
  {
   "cell_type": "markdown",
   "metadata": {},
   "source": [
    "# range()"
   ]
  },
  {
   "cell_type": "code",
   "execution_count": null,
   "metadata": {},
   "outputs": [],
   "source": [
    "print(range(100))\n"
   ]
  },
  {
   "cell_type": "code",
   "execution_count": null,
   "metadata": {},
   "outputs": [],
   "source": [
    "for number in range(0, 100):\n",
    "    print(number, end=' ')"
   ]
  },
  {
   "cell_type": "code",
   "execution_count": null,
   "metadata": {},
   "outputs": [],
   "source": [
    "for _ in range(0, 10, 2):\n",
    "    print(_, end=' ')\n",
    "print()\n",
    "\n",
    "for _ in range(10, 0, -1):\n",
    "    print(_, end=' ')\n",
    "print()\n",
    "\n",
    "for _ in range(10, 0, -2):\n",
    "    print(_, end=' ')"
   ]
  },
  {
   "cell_type": "markdown",
   "metadata": {},
   "source": [
    "# enumerate()"
   ]
  },
  {
   "cell_type": "code",
   "execution_count": null,
   "metadata": {},
   "outputs": [],
   "source": [
    "for i, char in enumerate('Hello'):\n",
    "    print(f'{i} - {char}')"
   ]
  },
  {
   "cell_type": "code",
   "execution_count": null,
   "metadata": {},
   "outputs": [],
   "source": [
    "for i, num in enumerate((1, 2, 3)):\n",
    "    print(f'{i} - {num}')"
   ]
  },
  {
   "cell_type": "code",
   "execution_count": null,
   "metadata": {},
   "outputs": [],
   "source": [
    "for i, num in enumerate(list(range(100))):\n",
    "    if (num == 50):\n",
    "        print(f'{i} - {num}')"
   ]
  },
  {
   "cell_type": "markdown",
   "metadata": {},
   "source": [
    "# WHILE LOOPS"
   ]
  },
  {
   "cell_type": "code",
   "execution_count": null,
   "metadata": {},
   "outputs": [],
   "source": [
    "i = 0\n",
    "while (i < 50):\n",
    "    print(i, end=' ')\n",
    "    i += 1\n",
    "else:\n",
    "    print('\\nDone with all the work!')"
   ]
  },
  {
   "cell_type": "code",
   "execution_count": null,
   "metadata": {},
   "outputs": [],
   "source": [
    "i = 0\n",
    "while (i < 50):\n",
    "    print(i, end=' ')\n",
    "    i += 1\n",
    "    break\n",
    "else:\n",
    "    print('\\nDone with all the work!')"
   ]
  },
  {
   "cell_type": "code",
   "execution_count": null,
   "metadata": {},
   "outputs": [],
   "source": [
    "my_list = [1, 2, 3]\n",
    "\n",
    "for item in my_list:\n",
    "    print(item, end=' ')\n",
    "print()\n",
    "###############################\n",
    "i = 0\n",
    "while (i < len(my_list)):\n",
    "    print(my_list[i], end=' ')\n",
    "    i += 1"
   ]
  },
  {
   "cell_type": "code",
   "execution_count": null,
   "metadata": {},
   "outputs": [],
   "source": [
    "while True:\n",
    "    response = input('Say something: ')\n",
    "    if (response == 'Bye'):\n",
    "        break"
   ]
  },
  {
   "cell_type": "markdown",
   "metadata": {},
   "source": [
    "# BREAK, CONTINUE, PASS"
   ]
  },
  {
   "cell_type": "code",
   "execution_count": null,
   "metadata": {},
   "outputs": [],
   "source": [
    "my_list = [1, 2, 3]\n",
    "\n",
    "for item in my_list:\n",
    "    continue\n",
    "    print(item, end=' ')\n",
    "print()\n",
    "###############################\n",
    "i = 0\n",
    "while (i < len(my_list)):\n",
    "    i += 1\n",
    "    continue\n",
    "    print(my_list[i], end=' ')"
   ]
  },
  {
   "cell_type": "markdown",
   "metadata": {},
   "source": [
    "# FIRST GUI"
   ]
  },
  {
   "cell_type": "code",
   "execution_count": null,
   "metadata": {},
   "outputs": [],
   "source": [
    "# Exercise!\n",
    "# Display the image below to the right hand side where the 0 is going to be ' ', and the 1 is going to be '*'. This will reveal an image!\n",
    "picture = [\n",
    "    [0,0,0,1,0,0,0],\n",
    "    [0,0,1,1,1,0,0],\n",
    "    [0,1,1,1,1,1,0],\n",
    "    [1,1,1,1,1,1,1],\n",
    "    [0,0,0,1,0,0,0],\n",
    "    [0,0,0,1,0,0,0]\n",
    "]\n",
    "\n",
    "fill = '*'\n",
    "empty = ''\n",
    "\n",
    "for image in picture:\n",
    "    for pixel in image:\n",
    "        if (pixel):\n",
    "            print(fill, end='')\n",
    "        else:\n",
    "            print(empty, end='')\n",
    "    print()"
   ]
  },
  {
   "cell_type": "markdown",
   "metadata": {},
   "source": [
    "# FIND DUPLICATES"
   ]
  },
  {
   "cell_type": "code",
   "execution_count": null,
   "metadata": {},
   "outputs": [],
   "source": [
    "some_list = ['a', 'b', 'c', 'b', 'd', 'm', 'n', 'n']\n",
    "\n",
    "duplicates = []\n",
    "for value in some_list:\n",
    "    if (some_list.count(value) > 1):\n",
    "        if (value not in duplicates):\n",
    "            duplicates.append(value)\n",
    "\n",
    "print(duplicates)"
   ]
  },
  {
   "cell_type": "markdown",
   "metadata": {},
   "source": [
    "# FUNCTIONS"
   ]
  },
  {
   "cell_type": "code",
   "execution_count": null,
   "metadata": {},
   "outputs": [],
   "source": [
    "def say_hello():\n",
    "    print('Hello')\n",
    "\n",
    "say_hello()"
   ]
  },
  {
   "cell_type": "code",
   "execution_count": null,
   "metadata": {},
   "outputs": [],
   "source": [
    "picture = [\n",
    "    [0,0,0,1,0,0,0],\n",
    "    [0,0,1,1,1,0,0],\n",
    "    [0,1,1,1,1,1,0],\n",
    "    [1,1,1,1,1,1,1],\n",
    "    [0,0,0,1,0,0,0],\n",
    "    [0,0,0,1,0,0,0]\n",
    "]\n",
    "\n",
    "\n",
    "def show_tree():\n",
    "    fill = '*'\n",
    "    empty = ''\n",
    "    \n",
    "    for image in picture:\n",
    "        for pixel in image:\n",
    "            if (pixel):\n",
    "                print(fill, end='')\n",
    "            else:\n",
    "                print(empty, end='')\n",
    "        print()\n",
    "    \n",
    "show_tree()"
   ]
  },
  {
   "cell_type": "code",
   "execution_count": null,
   "metadata": {},
   "outputs": [],
   "source": [
    "def highest_even(li):\n",
    "    evens = []\n",
    "    \n",
    "    for item in li:\n",
    "        if (item % 2 == 0):\n",
    "            evens.append(item)\n",
    "    \n",
    "    return max(evens)\n",
    "\n",
    "print(highest_even([10, 2, 3, 4, 8, 11]))"
   ]
  },
  {
   "cell_type": "markdown",
   "metadata": {},
   "source": [
    "# PARAMETERS AND ARGUMENTS"
   ]
  },
  {
   "cell_type": "code",
   "execution_count": null,
   "metadata": {},
   "outputs": [],
   "source": [
    "def say_hello(name, emoji):\n",
    "    print(f'Hello {name} {emoji}')\n",
    "\n",
    "say_hello('Student', ':)')"
   ]
  },
  {
   "cell_type": "markdown",
   "metadata": {},
   "source": [
    "# DEFAULT PARAMETERS AND KEYWORD ARGUMENTS"
   ]
  },
  {
   "cell_type": "code",
   "execution_count": null,
   "metadata": {},
   "outputs": [],
   "source": [
    "say_hello(emoji=':)', name='Student')"
   ]
  },
  {
   "cell_type": "code",
   "execution_count": null,
   "metadata": {},
   "outputs": [],
   "source": [
    "def say_hello(name='Batman', emoji='=.='):\n",
    "    print(f'Hello {name} {emoji}')\n",
    "\n",
    "say_hello()\n",
    "say_hello('Student')"
   ]
  },
  {
   "cell_type": "markdown",
   "metadata": {},
   "source": [
    "# RETURN"
   ]
  },
  {
   "cell_type": "code",
   "execution_count": null,
   "metadata": {},
   "outputs": [],
   "source": [
    "def sum_func(num1, num2):\n",
    "    return (num1 + num2)\n",
    "\n",
    "print(sum_func(10, 5))"
   ]
  },
  {
   "cell_type": "code",
   "execution_count": null,
   "metadata": {},
   "outputs": [],
   "source": [
    "def sum_func(num1, num2):\n",
    "    print('Hi')\n",
    "\n",
    "print(sum_func(10, 5))"
   ]
  },
  {
   "cell_type": "code",
   "execution_count": null,
   "metadata": {},
   "outputs": [],
   "source": [
    "def sum_func(num1, num2):\n",
    "    return (num1 + num2)\n",
    "\n",
    "total = sum_func(10, 5)\n",
    "print(total)"
   ]
  },
  {
   "cell_type": "code",
   "execution_count": null,
   "metadata": {},
   "outputs": [],
   "source": [
    "def sum_func(num1, num2):\n",
    "    def another_func(num1, num2):\n",
    "        return (num1 + num2)\n",
    "\n",
    "total = sum_func(10, 5)\n",
    "print(total)"
   ]
  },
  {
   "cell_type": "code",
   "execution_count": null,
   "metadata": {},
   "outputs": [],
   "source": [
    "def sum_func(num1, num2):\n",
    "    def another_func(n1, n2):\n",
    "        return (n1 + n2)\n",
    "    return another_func(num1, num2)\n",
    "    return 5\n",
    "    print('Hello')\n",
    "\n",
    "total = sum_func(10, 5)\n",
    "print(total)"
   ]
  },
  {
   "cell_type": "markdown",
   "metadata": {},
   "source": [
    "# METHODS & FUNCTIONS"
   ]
  },
  {
   "cell_type": "code",
   "execution_count": null,
   "metadata": {},
   "outputs": [],
   "source": [
    "def my_function():\n",
    "    pass\n",
    "\n",
    "my_function()"
   ]
  },
  {
   "cell_type": "code",
   "execution_count": null,
   "metadata": {},
   "outputs": [],
   "source": [
    "'Hello'.upper()"
   ]
  },
  {
   "cell_type": "markdown",
   "metadata": {},
   "source": [
    "# DOCSTRINGS"
   ]
  },
  {
   "cell_type": "code",
   "execution_count": null,
   "metadata": {},
   "outputs": [],
   "source": [
    "def test(a):\n",
    "    '''\n",
    "    This function tests and prints param `a`\n",
    "    '''\n",
    "    print(a)\n",
    "\n",
    "test('!!!')"
   ]
  },
  {
   "cell_type": "code",
   "execution_count": null,
   "metadata": {},
   "outputs": [],
   "source": [
    "help(test)"
   ]
  },
  {
   "cell_type": "code",
   "execution_count": null,
   "metadata": {},
   "outputs": [],
   "source": [
    "print(test.__doc__)"
   ]
  },
  {
   "cell_type": "markdown",
   "metadata": {},
   "source": [
    "# CLEAN CODE"
   ]
  },
  {
   "cell_type": "code",
   "execution_count": null,
   "metadata": {},
   "outputs": [],
   "source": [
    "def is_even(num):\n",
    "    if (num % 2 == 0):\n",
    "        return True\n",
    "    elif (num % 2 != 0):\n",
    "        return False\n",
    "\n",
    "print(is_even(50))\n",
    "print(is_even(51))"
   ]
  },
  {
   "cell_type": "code",
   "execution_count": null,
   "metadata": {},
   "outputs": [],
   "source": [
    "def is_even(num):\n",
    "    if (num % 2 == 0):\n",
    "        return True\n",
    "    else:\n",
    "        return False\n",
    "\n",
    "print(is_even(50))\n",
    "print(is_even(51))"
   ]
  },
  {
   "cell_type": "code",
   "execution_count": null,
   "metadata": {},
   "outputs": [],
   "source": [
    "def is_even(num):\n",
    "    if (num % 2 == 0):\n",
    "        return True\n",
    "    return False\n",
    "\n",
    "print(is_even(50))\n",
    "print(is_even(51))"
   ]
  },
  {
   "cell_type": "code",
   "execution_count": null,
   "metadata": {},
   "outputs": [],
   "source": [
    "def is_even(num):\n",
    "    return (num % 2 == 0)\n",
    "\n",
    "print(is_even(50))\n",
    "print(is_even(51))"
   ]
  },
  {
   "cell_type": "markdown",
   "metadata": {},
   "source": [
    "# *args AND *kwargs\n",
    "`params` -> `*args` -> `default parameters` -> `**kwargs`"
   ]
  },
  {
   "cell_type": "code",
   "execution_count": null,
   "metadata": {},
   "outputs": [],
   "source": [
    "def super_func(*args, **kwargs):\n",
    "    print(args)\n",
    "    print(kwargs)\n",
    "    \n",
    "    total = 0\n",
    "    for item in kwargs.values():\n",
    "        total += item\n",
    "    return sum(args) + total\n",
    "\n",
    "print(super_func(1, 2, 3, 4, 5, num1=5, num2=10))"
   ]
  },
  {
   "cell_type": "code",
   "execution_count": null,
   "metadata": {},
   "outputs": [],
   "source": [
    "def super_func(name, *args, i='hi', **kwargs):\n",
    "    print(args)\n",
    "    print(kwargs)\n",
    "    \n",
    "    total = 0\n",
    "    for item in kwargs.values():\n",
    "        total += item\n",
    "    return sum(args) + total\n",
    "\n",
    "print(super_func('Andy', 1, 2, 3, 4, 5, num1=5, num2=10))"
   ]
  },
  {
   "cell_type": "markdown",
   "metadata": {},
   "source": [
    "# SCOPE"
   ]
  },
  {
   "cell_type": "code",
   "execution_count": null,
   "metadata": {},
   "outputs": [],
   "source": [
    "total = 101\n",
    "\n",
    "def some_func():\n",
    "    total = 100\n",
    "\n",
    "print(total)"
   ]
  },
  {
   "cell_type": "code",
   "execution_count": null,
   "metadata": {},
   "outputs": [],
   "source": [
    "if True:\n",
    "    x = 10\n",
    "\n",
    "print(x)"
   ]
  },
  {
   "cell_type": "code",
   "execution_count": null,
   "metadata": {},
   "outputs": [],
   "source": [
    "a = 1\n",
    "\n",
    "def confusion():\n",
    "    a = 5\n",
    "    return a\n",
    "\n",
    "print(a)\n",
    "print(confusion())"
   ]
  },
  {
   "cell_type": "code",
   "execution_count": null,
   "metadata": {},
   "outputs": [],
   "source": [
    "a = 1\n",
    "\n",
    "def confusion():\n",
    "    a = 5\n",
    "    return a\n",
    "\n",
    "print(confusion())\n",
    "print(a)"
   ]
  },
  {
   "cell_type": "code",
   "execution_count": null,
   "metadata": {},
   "outputs": [],
   "source": [
    "a = 1\n",
    "\n",
    "def parent():\n",
    "    a = 10\n",
    "    def confusion():\n",
    "        return a\n",
    "    return confusion()\n",
    "\n",
    "print(parent())\n",
    "print(a)"
   ]
  },
  {
   "cell_type": "markdown",
   "metadata": {},
   "source": [
    "# GLOBAL KEYWORD"
   ]
  },
  {
   "cell_type": "code",
   "execution_count": null,
   "metadata": {},
   "outputs": [],
   "source": [
    "a = 10\n",
    "\n",
    "def confusion(b):\n",
    "    print(b)\n",
    "    a = 90\n",
    "\n",
    "confusion(300)"
   ]
  },
  {
   "cell_type": "code",
   "execution_count": null,
   "metadata": {},
   "outputs": [],
   "source": [
    "total = 0\n",
    "\n",
    "def count():\n",
    "    total = 0\n",
    "    total += 1\n",
    "    return total\n",
    "\n",
    "count()\n",
    "count()\n",
    "print(count())"
   ]
  },
  {
   "cell_type": "code",
   "execution_count": null,
   "metadata": {},
   "outputs": [],
   "source": [
    "total = 0\n",
    "\n",
    "def count():\n",
    "    global total\n",
    "    total += 1\n",
    "    return total\n",
    "\n",
    "count()\n",
    "count()\n",
    "print(count())"
   ]
  },
  {
   "cell_type": "code",
   "execution_count": null,
   "metadata": {},
   "outputs": [],
   "source": [
    "total = 0\n",
    "\n",
    "def count(total):\n",
    "    total += 1\n",
    "    return total\n",
    "\n",
    "print(count(count(count(total))))"
   ]
  },
  {
   "cell_type": "markdown",
   "metadata": {},
   "source": [
    "# NON-LOCAL KEYWORD"
   ]
  },
  {
   "cell_type": "code",
   "execution_count": null,
   "metadata": {},
   "outputs": [],
   "source": [
    "def outer():\n",
    "    x = 'local'\n",
    "    \n",
    "    def inner():\n",
    "        nonlocal x\n",
    "        x = 'nonlocal'\n",
    "        print(f'Inner: {x}')\n",
    "    \n",
    "    inner()\n",
    "    \n",
    "    print(f'Outer: {x}')\n",
    "\n",
    "outer()"
   ]
  },
  {
   "cell_type": "code",
   "execution_count": null,
   "metadata": {},
   "outputs": [],
   "source": [
    "def outer():\n",
    "    x = 'local'\n",
    "    \n",
    "    def inner():\n",
    "        x = 'nonlocal'\n",
    "        print(f'Inner: {x}')\n",
    "    \n",
    "    inner()\n",
    "    \n",
    "    print(f'Outer: {x}')\n",
    "\n",
    "outer()"
   ]
  },
  {
   "cell_type": "markdown",
   "metadata": {},
   "source": [
    "# PURE FUNCTIONS"
   ]
  },
  {
   "cell_type": "code",
   "execution_count": null,
   "metadata": {},
   "outputs": [],
   "source": [
    "def multiply_by_2(li):\n",
    "    new_list = []\n",
    "    for item in li:\n",
    "        new_list.append(item * 2)\n",
    "    return new_list\n",
    "\n",
    "print(multiply_by_2([1, 2, 3]))"
   ]
  },
  {
   "cell_type": "code",
   "execution_count": null,
   "metadata": {},
   "outputs": [],
   "source": [
    "def multiply_by_2(li):\n",
    "    new_list = []\n",
    "    for item in li:\n",
    "        new_list.append(item * 2)\n",
    "    return print(new_list)\n",
    "\n",
    "multiply_by_2([1, 2, 3])"
   ]
  },
  {
   "cell_type": "code",
   "execution_count": null,
   "metadata": {},
   "outputs": [],
   "source": [
    "new_list = []\n",
    "\n",
    "def multiply_by_2(li):\n",
    "    for item in li:\n",
    "        new_list.append(item * 2)\n",
    "    return new_list\n",
    "\n",
    "print(multiply_by_2([1, 2, 3]))"
   ]
  },
  {
   "cell_type": "markdown",
   "metadata": {},
   "source": [
    "# map()"
   ]
  },
  {
   "cell_type": "code",
   "execution_count": null,
   "metadata": {},
   "outputs": [],
   "source": [
    "def multiply_by_2(item):\n",
    "    return item * 2\n",
    "\n",
    "print(list(map(multiply_by_2, [1, 2, 3])))"
   ]
  },
  {
   "cell_type": "code",
   "execution_count": null,
   "metadata": {},
   "outputs": [],
   "source": [
    "def multiply_by_2(item):\n",
    "    return item * 2\n",
    "\n",
    "my_list = [1, 2, 3]\n",
    "print(list(map(multiply_by_2, my_list)))\n",
    "print(my_list)"
   ]
  },
  {
   "cell_type": "markdown",
   "metadata": {},
   "source": [
    "# filter()"
   ]
  },
  {
   "cell_type": "code",
   "execution_count": null,
   "metadata": {},
   "outputs": [],
   "source": [
    "def only_odd(item):\n",
    "    return (item % 2 != 0)\n",
    "\n",
    "my_list = [1, 2, 3]\n",
    "print(list(filter(only_odd, my_list)))\n",
    "print(my_list)"
   ]
  },
  {
   "cell_type": "markdown",
   "metadata": {},
   "source": [
    "# zip()"
   ]
  },
  {
   "cell_type": "code",
   "execution_count": null,
   "metadata": {},
   "outputs": [],
   "source": [
    "def only_odd(item):\n",
    "    return (item % 2 != 0)\n",
    "\n",
    "my_list    = [1, 2, 3]\n",
    "your_list  = [10, 20, 30]\n",
    "their_list = (5, 4, 3)\n",
    "\n",
    "print(list(zip(my_list, your_list, their_list)))\n"
   ]
  },
  {
   "cell_type": "markdown",
   "metadata": {},
   "source": [
    "# reduce()"
   ]
  },
  {
   "cell_type": "code",
   "execution_count": null,
   "metadata": {},
   "outputs": [],
   "source": [
    "from functools import reduce"
   ]
  },
  {
   "cell_type": "code",
   "execution_count": null,
   "metadata": {},
   "outputs": [],
   "source": [
    "def accumulator(acc, item):\n",
    "    print(acc, item)\n",
    "    return (acc + item)\n",
    "\n",
    "my_list = [1, 2, 3]\n",
    "print(reduce(accumulator, my_list, 0))"
   ]
  },
  {
   "cell_type": "markdown",
   "metadata": {},
   "source": [
    "# LIST COMPREHENSIONS"
   ]
  },
  {
   "cell_type": "code",
   "execution_count": null,
   "metadata": {},
   "outputs": [],
   "source": [
    "my_list  = [char for char in 'Hello']\n",
    "my_list2 = [num for num in range(0, 100)]\n",
    "my_list3 = [(num**2) for num in my_list2]\n",
    "my_list4 = [num for num in my_list3 if (num % 2 == 0)]\n",
    "\n",
    "print(my_list, '\\n')\n",
    "print(my_list2, '\\n')\n",
    "print(my_list3, '\\n')\n",
    "print(my_list4, '\\n')"
   ]
  },
  {
   "cell_type": "markdown",
   "metadata": {},
   "source": [
    "# SET COMPREHENSIONS"
   ]
  },
  {
   "cell_type": "code",
   "execution_count": null,
   "metadata": {},
   "outputs": [],
   "source": [
    "my_set  = {char for char in 'Hello'}\n",
    "my_set2 = {num for num in range(0, 100)}\n",
    "my_set3 = {(num**2) for num in my_set2}\n",
    "my_set4 = {num for num in my_set3 if (num % 2 == 0)}\n",
    "\n",
    "print(my_set, '\\n')\n",
    "print(my_set2, '\\n')\n",
    "print(my_set3, '\\n')\n",
    "print(my_set4, '\\n')"
   ]
  },
  {
   "cell_type": "markdown",
   "metadata": {},
   "source": [
    "# DICTIONARY COMPREHENSIONS"
   ]
  },
  {
   "cell_type": "code",
   "execution_count": null,
   "metadata": {},
   "outputs": [],
   "source": [
    "simple_dict = {\n",
    "    'a': 1,\n",
    "    'b': 2\n",
    "}\n",
    "\n",
    "my_dict = {key: value**2 for (key, value) in simple_dict.items()}\n",
    "my_dict2 = {key: value**2 for (key, value) in simple_dict.items() if (value % 2 == 0)}\n",
    "my_dict3 = {num:num*2 for num in [1, 2, 3]}\n",
    "\n",
    "print(my_dict, '\\n')\n",
    "print(my_dict2, '\\n')\n",
    "print(my_dict3, '\\n')"
   ]
  },
  {
   "cell_type": "markdown",
   "metadata": {},
   "source": [
    "# COMPREHENSIONS EXERCISE"
   ]
  },
  {
   "cell_type": "code",
   "execution_count": null,
   "metadata": {},
   "outputs": [],
   "source": [
    "some_list = ['a', 'b', 'c', 'b', 'd', 'm', 'n', 'n']\n",
    "\n",
    "duplicates = list(set([x for x in some_list if (some_list.count(x) > 1)]))\n",
    "\n",
    "print(duplicates)"
   ]
  }
 ],
 "metadata": {
  "interpreter": {
   "hash": "ee5cc6fef2d70a7e71ee3826687cbd150f18158e0b1eef11d4f4f92bb920e304"
  },
  "kernelspec": {
   "display_name": "Python 3.9.7 64-bit",
   "language": "python",
   "name": "python3"
  },
  "language_info": {
   "codemirror_mode": {
    "name": "ipython",
    "version": 3
   },
   "file_extension": ".py",
   "mimetype": "text/x-python",
   "name": "python",
   "nbconvert_exporter": "python",
   "pygments_lexer": "ipython3",
   "version": "3.9.7"
  },
  "orig_nbformat": 4
 },
 "nbformat": 4,
 "nbformat_minor": 2
}
